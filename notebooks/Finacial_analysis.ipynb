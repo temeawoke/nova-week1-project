{
 "cells": [
  {
   "cell_type": "markdown",
   "metadata": {
    "id": "hj4WBezsXQMG"
   },
   "source": [
    "# *Yfinance*"
   ]
  },
  {
   "cell_type": "code",
   "execution_count": 3,
   "metadata": {},
   "outputs": [],
   "source": [
    "import yfinance as yf\n",
    "import pandas as pd\n",
    "import numpy as np\n",
    "from datetime import datetime, timedelta\n",
    "import matplotlib.pyplot as plt\n",
    "import seaborn as sns\n",
    "from typing import Optional, Union, List, Dict\n",
    "import plotly.graph_objects as go\n",
    "from plotly.subplots import make_subplots\n"
   ]
  },
  {
   "cell_type": "code",
   "execution_count": 2,
   "metadata": {},
   "outputs": [
    {
     "name": "stdout",
     "output_type": "stream",
     "text": [
      "Collecting plotly\n",
      "  Downloading plotly-6.1.2-py3-none-any.whl.metadata (6.9 kB)\n",
      "Requirement already satisfied: narwhals>=1.15.1 in g:\\10 academy\\nova_project\\nova-week1-project\\venv\\lib\\site-packages (from plotly) (1.41.0)\n",
      "Requirement already satisfied: packaging in g:\\10 academy\\nova_project\\nova-week1-project\\venv\\lib\\site-packages (from plotly) (24.2)\n",
      "Downloading plotly-6.1.2-py3-none-any.whl (16.3 MB)\n",
      "   ---------------------------------------- 0.0/16.3 MB ? eta -:--:--\n",
      "   ---------------------------------------- 0.0/16.3 MB ? eta -:--:--\n",
      "   - -------------------------------------- 0.8/16.3 MB 4.2 MB/s eta 0:00:04\n",
      "   ------- -------------------------------- 2.9/16.3 MB 8.0 MB/s eta 0:00:02\n",
      "   -------------- ------------------------- 5.8/16.3 MB 10.4 MB/s eta 0:00:02\n",
      "   ---------------------- ----------------- 9.2/16.3 MB 11.9 MB/s eta 0:00:01\n",
      "   ----------------------------- ---------- 11.8/16.3 MB 13.0 MB/s eta 0:00:01\n",
      "   ---------------------------------- ----- 13.9/16.3 MB 12.1 MB/s eta 0:00:01\n",
      "   ---------------------------------------- 16.3/16.3 MB 11.8 MB/s eta 0:00:00\n",
      "Installing collected packages: plotly\n",
      "Successfully installed plotly-6.1.2\n"
     ]
    }
   ],
   "source": [
    "!pip install plotly\n"
   ]
  },
  {
   "cell_type": "code",
   "execution_count": 4,
   "metadata": {
    "colab": {
     "base_uri": "https://localhost:8080/",
     "height": 792
    },
    "executionInfo": {
     "elapsed": 950,
     "status": "ok",
     "timestamp": 1748495305674,
     "user": {
      "displayName": "Rehmet Yeshanew",
      "userId": "13657567983879656862"
     },
     "user_tz": -180
    },
    "id": "VhHqKEcsYBnn",
    "outputId": "964ff0bb-bad7-4d1e-bda7-2bf939da9658"
   },
   "outputs": [
    {
     "data": {
      "application/vnd.plotly.v1+json": {
       "config": {
        "plotlyServerURL": "https://plot.ly"
       },
       "data": [
        {
         "close": {
          "bdata": "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",
          "dtype": "f8"
         },
         "high": {
          "bdata": "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",
          "dtype": "f8"
         },
         "low": {
          "bdata": "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",
          "dtype": "f8"
         },
         "name": "OHLC",
         "open": {
          "bdata": "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",
          "dtype": "f8"
         },
         "type": "candlestick",
         "x": [
          "2024-06-03T00:00:00-04:00",
          "2024-06-04T00:00:00-04:00",
          "2024-06-05T00:00:00-04:00",
          "2024-06-06T00:00:00-04:00",
          "2024-06-07T00:00:00-04:00",
          "2024-06-10T00:00:00-04:00",
          "2024-06-11T00:00:00-04:00",
          "2024-06-12T00:00:00-04:00",
          "2024-06-13T00:00:00-04:00",
          "2024-06-14T00:00:00-04:00",
          "2024-06-17T00:00:00-04:00",
          "2024-06-18T00:00:00-04:00",
          "2024-06-20T00:00:00-04:00",
          "2024-06-21T00:00:00-04:00",
          "2024-06-24T00:00:00-04:00",
          "2024-06-25T00:00:00-04:00",
          "2024-06-26T00:00:00-04:00",
          "2024-06-27T00:00:00-04:00",
          "2024-06-28T00:00:00-04:00",
          "2024-07-01T00:00:00-04:00",
          "2024-07-02T00:00:00-04:00",
          "2024-07-03T00:00:00-04:00",
          "2024-07-05T00:00:00-04:00",
          "2024-07-08T00:00:00-04:00",
          "2024-07-09T00:00:00-04:00",
          "2024-07-10T00:00:00-04:00",
          "2024-07-11T00:00:00-04:00",
          "2024-07-12T00:00:00-04:00",
          "2024-07-15T00:00:00-04:00",
          "2024-07-16T00:00:00-04:00",
          "2024-07-17T00:00:00-04:00",
          "2024-07-18T00:00:00-04:00",
          "2024-07-19T00:00:00-04:00",
          "2024-07-22T00:00:00-04:00",
          "2024-07-23T00:00:00-04:00",
          "2024-07-24T00:00:00-04:00",
          "2024-07-25T00:00:00-04:00",
          "2024-07-26T00:00:00-04:00",
          "2024-07-29T00:00:00-04:00",
          "2024-07-30T00:00:00-04:00",
          "2024-07-31T00:00:00-04:00",
          "2024-08-01T00:00:00-04:00",
          "2024-08-02T00:00:00-04:00",
          "2024-08-05T00:00:00-04:00",
          "2024-08-06T00:00:00-04:00",
          "2024-08-07T00:00:00-04:00",
          "2024-08-08T00:00:00-04:00",
          "2024-08-09T00:00:00-04:00",
          "2024-08-12T00:00:00-04:00",
          "2024-08-13T00:00:00-04:00",
          "2024-08-14T00:00:00-04:00",
          "2024-08-15T00:00:00-04:00",
          "2024-08-16T00:00:00-04:00",
          "2024-08-19T00:00:00-04:00",
          "2024-08-20T00:00:00-04:00",
          "2024-08-21T00:00:00-04:00",
          "2024-08-22T00:00:00-04:00",
          "2024-08-23T00:00:00-04:00",
          "2024-08-26T00:00:00-04:00",
          "2024-08-27T00:00:00-04:00",
          "2024-08-28T00:00:00-04:00",
          "2024-08-29T00:00:00-04:00",
          "2024-08-30T00:00:00-04:00",
          "2024-09-03T00:00:00-04:00",
          "2024-09-04T00:00:00-04:00",
          "2024-09-05T00:00:00-04:00",
          "2024-09-06T00:00:00-04:00",
          "2024-09-09T00:00:00-04:00",
          "2024-09-10T00:00:00-04:00",
          "2024-09-11T00:00:00-04:00",
          "2024-09-12T00:00:00-04:00",
          "2024-09-13T00:00:00-04:00",
          "2024-09-16T00:00:00-04:00",
          "2024-09-17T00:00:00-04:00",
          "2024-09-18T00:00:00-04:00",
          "2024-09-19T00:00:00-04:00",
          "2024-09-20T00:00:00-04:00",
          "2024-09-23T00:00:00-04:00",
          "2024-09-24T00:00:00-04:00",
          "2024-09-25T00:00:00-04:00",
          "2024-09-26T00:00:00-04:00",
          "2024-09-27T00:00:00-04:00",
          "2024-09-30T00:00:00-04:00",
          "2024-10-01T00:00:00-04:00",
          "2024-10-02T00:00:00-04:00",
          "2024-10-03T00:00:00-04:00",
          "2024-10-04T00:00:00-04:00",
          "2024-10-07T00:00:00-04:00",
          "2024-10-08T00:00:00-04:00",
          "2024-10-09T00:00:00-04:00",
          "2024-10-10T00:00:00-04:00",
          "2024-10-11T00:00:00-04:00",
          "2024-10-14T00:00:00-04:00",
          "2024-10-15T00:00:00-04:00",
          "2024-10-16T00:00:00-04:00",
          "2024-10-17T00:00:00-04:00",
          "2024-10-18T00:00:00-04:00",
          "2024-10-21T00:00:00-04:00",
          "2024-10-22T00:00:00-04:00",
          "2024-10-23T00:00:00-04:00",
          "2024-10-24T00:00:00-04:00",
          "2024-10-25T00:00:00-04:00",
          "2024-10-28T00:00:00-04:00",
          "2024-10-29T00:00:00-04:00",
          "2024-10-30T00:00:00-04:00",
          "2024-10-31T00:00:00-04:00",
          "2024-11-01T00:00:00-04:00",
          "2024-11-04T00:00:00-05:00",
          "2024-11-05T00:00:00-05:00",
          "2024-11-06T00:00:00-05:00",
          "2024-11-07T00:00:00-05:00",
          "2024-11-08T00:00:00-05:00",
          "2024-11-11T00:00:00-05:00",
          "2024-11-12T00:00:00-05:00",
          "2024-11-13T00:00:00-05:00",
          "2024-11-14T00:00:00-05:00",
          "2024-11-15T00:00:00-05:00",
          "2024-11-18T00:00:00-05:00",
          "2024-11-19T00:00:00-05:00",
          "2024-11-20T00:00:00-05:00",
          "2024-11-21T00:00:00-05:00",
          "2024-11-22T00:00:00-05:00",
          "2024-11-25T00:00:00-05:00",
          "2024-11-26T00:00:00-05:00",
          "2024-11-27T00:00:00-05:00",
          "2024-11-29T00:00:00-05:00",
          "2024-12-02T00:00:00-05:00",
          "2024-12-03T00:00:00-05:00",
          "2024-12-04T00:00:00-05:00",
          "2024-12-05T00:00:00-05:00",
          "2024-12-06T00:00:00-05:00",
          "2024-12-09T00:00:00-05:00",
          "2024-12-10T00:00:00-05:00",
          "2024-12-11T00:00:00-05:00",
          "2024-12-12T00:00:00-05:00",
          "2024-12-13T00:00:00-05:00",
          "2024-12-16T00:00:00-05:00",
          "2024-12-17T00:00:00-05:00",
          "2024-12-18T00:00:00-05:00",
          "2024-12-19T00:00:00-05:00",
          "2024-12-20T00:00:00-05:00",
          "2024-12-23T00:00:00-05:00",
          "2024-12-24T00:00:00-05:00",
          "2024-12-26T00:00:00-05:00",
          "2024-12-27T00:00:00-05:00",
          "2024-12-30T00:00:00-05:00",
          "2024-12-31T00:00:00-05:00",
          "2025-01-02T00:00:00-05:00",
          "2025-01-03T00:00:00-05:00",
          "2025-01-06T00:00:00-05:00",
          "2025-01-07T00:00:00-05:00",
          "2025-01-08T00:00:00-05:00",
          "2025-01-10T00:00:00-05:00",
          "2025-01-13T00:00:00-05:00",
          "2025-01-14T00:00:00-05:00",
          "2025-01-15T00:00:00-05:00",
          "2025-01-16T00:00:00-05:00",
          "2025-01-17T00:00:00-05:00",
          "2025-01-21T00:00:00-05:00",
          "2025-01-22T00:00:00-05:00",
          "2025-01-23T00:00:00-05:00",
          "2025-01-24T00:00:00-05:00",
          "2025-01-27T00:00:00-05:00",
          "2025-01-28T00:00:00-05:00",
          "2025-01-29T00:00:00-05:00",
          "2025-01-30T00:00:00-05:00",
          "2025-01-31T00:00:00-05:00",
          "2025-02-03T00:00:00-05:00",
          "2025-02-04T00:00:00-05:00",
          "2025-02-05T00:00:00-05:00",
          "2025-02-06T00:00:00-05:00",
          "2025-02-07T00:00:00-05:00",
          "2025-02-10T00:00:00-05:00",
          "2025-02-11T00:00:00-05:00",
          "2025-02-12T00:00:00-05:00",
          "2025-02-13T00:00:00-05:00",
          "2025-02-14T00:00:00-05:00",
          "2025-02-18T00:00:00-05:00",
          "2025-02-19T00:00:00-05:00",
          "2025-02-20T00:00:00-05:00",
          "2025-02-21T00:00:00-05:00",
          "2025-02-24T00:00:00-05:00",
          "2025-02-25T00:00:00-05:00",
          "2025-02-26T00:00:00-05:00",
          "2025-02-27T00:00:00-05:00",
          "2025-02-28T00:00:00-05:00",
          "2025-03-03T00:00:00-05:00",
          "2025-03-04T00:00:00-05:00",
          "2025-03-05T00:00:00-05:00",
          "2025-03-06T00:00:00-05:00",
          "2025-03-07T00:00:00-05:00",
          "2025-03-10T00:00:00-04:00",
          "2025-03-11T00:00:00-04:00",
          "2025-03-12T00:00:00-04:00",
          "2025-03-13T00:00:00-04:00",
          "2025-03-14T00:00:00-04:00",
          "2025-03-17T00:00:00-04:00",
          "2025-03-18T00:00:00-04:00",
          "2025-03-19T00:00:00-04:00",
          "2025-03-20T00:00:00-04:00",
          "2025-03-21T00:00:00-04:00",
          "2025-03-24T00:00:00-04:00",
          "2025-03-25T00:00:00-04:00",
          "2025-03-26T00:00:00-04:00",
          "2025-03-27T00:00:00-04:00",
          "2025-03-28T00:00:00-04:00",
          "2025-03-31T00:00:00-04:00",
          "2025-04-01T00:00:00-04:00",
          "2025-04-02T00:00:00-04:00",
          "2025-04-03T00:00:00-04:00",
          "2025-04-04T00:00:00-04:00",
          "2025-04-07T00:00:00-04:00",
          "2025-04-08T00:00:00-04:00",
          "2025-04-09T00:00:00-04:00",
          "2025-04-10T00:00:00-04:00",
          "2025-04-11T00:00:00-04:00",
          "2025-04-14T00:00:00-04:00",
          "2025-04-15T00:00:00-04:00",
          "2025-04-16T00:00:00-04:00",
          "2025-04-17T00:00:00-04:00",
          "2025-04-21T00:00:00-04:00",
          "2025-04-22T00:00:00-04:00",
          "2025-04-23T00:00:00-04:00",
          "2025-04-24T00:00:00-04:00",
          "2025-04-25T00:00:00-04:00",
          "2025-04-28T00:00:00-04:00",
          "2025-04-29T00:00:00-04:00",
          "2025-04-30T00:00:00-04:00",
          "2025-05-01T00:00:00-04:00",
          "2025-05-02T00:00:00-04:00",
          "2025-05-05T00:00:00-04:00",
          "2025-05-06T00:00:00-04:00",
          "2025-05-07T00:00:00-04:00",
          "2025-05-08T00:00:00-04:00",
          "2025-05-09T00:00:00-04:00",
          "2025-05-12T00:00:00-04:00",
          "2025-05-13T00:00:00-04:00",
          "2025-05-14T00:00:00-04:00",
          "2025-05-15T00:00:00-04:00",
          "2025-05-16T00:00:00-04:00",
          "2025-05-19T00:00:00-04:00",
          "2025-05-20T00:00:00-04:00",
          "2025-05-21T00:00:00-04:00",
          "2025-05-22T00:00:00-04:00",
          "2025-05-23T00:00:00-04:00",
          "2025-05-27T00:00:00-04:00",
          "2025-05-28T00:00:00-04:00",
          "2025-05-29T00:00:00-04:00",
          "2025-05-30T00:00:00-04:00",
          "2025-06-02T00:00:00-04:00",
          "2025-06-03T00:00:00-04:00"
         ],
         "xaxis": "x",
         "yaxis": "y"
        },
        {
         "line": {
          "color": "blue"
         },
         "name": "SMA 20",
         "type": "scatter",
         "x": [
          "2024-06-03T00:00:00-04:00",
          "2024-06-04T00:00:00-04:00",
          "2024-06-05T00:00:00-04:00",
          "2024-06-06T00:00:00-04:00",
          "2024-06-07T00:00:00-04:00",
          "2024-06-10T00:00:00-04:00",
          "2024-06-11T00:00:00-04:00",
          "2024-06-12T00:00:00-04:00",
          "2024-06-13T00:00:00-04:00",
          "2024-06-14T00:00:00-04:00",
          "2024-06-17T00:00:00-04:00",
          "2024-06-18T00:00:00-04:00",
          "2024-06-20T00:00:00-04:00",
          "2024-06-21T00:00:00-04:00",
          "2024-06-24T00:00:00-04:00",
          "2024-06-25T00:00:00-04:00",
          "2024-06-26T00:00:00-04:00",
          "2024-06-27T00:00:00-04:00",
          "2024-06-28T00:00:00-04:00",
          "2024-07-01T00:00:00-04:00",
          "2024-07-02T00:00:00-04:00",
          "2024-07-03T00:00:00-04:00",
          "2024-07-05T00:00:00-04:00",
          "2024-07-08T00:00:00-04:00",
          "2024-07-09T00:00:00-04:00",
          "2024-07-10T00:00:00-04:00",
          "2024-07-11T00:00:00-04:00",
          "2024-07-12T00:00:00-04:00",
          "2024-07-15T00:00:00-04:00",
          "2024-07-16T00:00:00-04:00",
          "2024-07-17T00:00:00-04:00",
          "2024-07-18T00:00:00-04:00",
          "2024-07-19T00:00:00-04:00",
          "2024-07-22T00:00:00-04:00",
          "2024-07-23T00:00:00-04:00",
          "2024-07-24T00:00:00-04:00",
          "2024-07-25T00:00:00-04:00",
          "2024-07-26T00:00:00-04:00",
          "2024-07-29T00:00:00-04:00",
          "2024-07-30T00:00:00-04:00",
          "2024-07-31T00:00:00-04:00",
          "2024-08-01T00:00:00-04:00",
          "2024-08-02T00:00:00-04:00",
          "2024-08-05T00:00:00-04:00",
          "2024-08-06T00:00:00-04:00",
          "2024-08-07T00:00:00-04:00",
          "2024-08-08T00:00:00-04:00",
          "2024-08-09T00:00:00-04:00",
          "2024-08-12T00:00:00-04:00",
          "2024-08-13T00:00:00-04:00",
          "2024-08-14T00:00:00-04:00",
          "2024-08-15T00:00:00-04:00",
          "2024-08-16T00:00:00-04:00",
          "2024-08-19T00:00:00-04:00",
          "2024-08-20T00:00:00-04:00",
          "2024-08-21T00:00:00-04:00",
          "2024-08-22T00:00:00-04:00",
          "2024-08-23T00:00:00-04:00",
          "2024-08-26T00:00:00-04:00",
          "2024-08-27T00:00:00-04:00",
          "2024-08-28T00:00:00-04:00",
          "2024-08-29T00:00:00-04:00",
          "2024-08-30T00:00:00-04:00",
          "2024-09-03T00:00:00-04:00",
          "2024-09-04T00:00:00-04:00",
          "2024-09-05T00:00:00-04:00",
          "2024-09-06T00:00:00-04:00",
          "2024-09-09T00:00:00-04:00",
          "2024-09-10T00:00:00-04:00",
          "2024-09-11T00:00:00-04:00",
          "2024-09-12T00:00:00-04:00",
          "2024-09-13T00:00:00-04:00",
          "2024-09-16T00:00:00-04:00",
          "2024-09-17T00:00:00-04:00",
          "2024-09-18T00:00:00-04:00",
          "2024-09-19T00:00:00-04:00",
          "2024-09-20T00:00:00-04:00",
          "2024-09-23T00:00:00-04:00",
          "2024-09-24T00:00:00-04:00",
          "2024-09-25T00:00:00-04:00",
          "2024-09-26T00:00:00-04:00",
          "2024-09-27T00:00:00-04:00",
          "2024-09-30T00:00:00-04:00",
          "2024-10-01T00:00:00-04:00",
          "2024-10-02T00:00:00-04:00",
          "2024-10-03T00:00:00-04:00",
          "2024-10-04T00:00:00-04:00",
          "2024-10-07T00:00:00-04:00",
          "2024-10-08T00:00:00-04:00",
          "2024-10-09T00:00:00-04:00",
          "2024-10-10T00:00:00-04:00",
          "2024-10-11T00:00:00-04:00",
          "2024-10-14T00:00:00-04:00",
          "2024-10-15T00:00:00-04:00",
          "2024-10-16T00:00:00-04:00",
          "2024-10-17T00:00:00-04:00",
          "2024-10-18T00:00:00-04:00",
          "2024-10-21T00:00:00-04:00",
          "2024-10-22T00:00:00-04:00",
          "2024-10-23T00:00:00-04:00",
          "2024-10-24T00:00:00-04:00",
          "2024-10-25T00:00:00-04:00",
          "2024-10-28T00:00:00-04:00",
          "2024-10-29T00:00:00-04:00",
          "2024-10-30T00:00:00-04:00",
          "2024-10-31T00:00:00-04:00",
          "2024-11-01T00:00:00-04:00",
          "2024-11-04T00:00:00-05:00",
          "2024-11-05T00:00:00-05:00",
          "2024-11-06T00:00:00-05:00",
          "2024-11-07T00:00:00-05:00",
          "2024-11-08T00:00:00-05:00",
          "2024-11-11T00:00:00-05:00",
          "2024-11-12T00:00:00-05:00",
          "2024-11-13T00:00:00-05:00",
          "2024-11-14T00:00:00-05:00",
          "2024-11-15T00:00:00-05:00",
          "2024-11-18T00:00:00-05:00",
          "2024-11-19T00:00:00-05:00",
          "2024-11-20T00:00:00-05:00",
          "2024-11-21T00:00:00-05:00",
          "2024-11-22T00:00:00-05:00",
          "2024-11-25T00:00:00-05:00",
          "2024-11-26T00:00:00-05:00",
          "2024-11-27T00:00:00-05:00",
          "2024-11-29T00:00:00-05:00",
          "2024-12-02T00:00:00-05:00",
          "2024-12-03T00:00:00-05:00",
          "2024-12-04T00:00:00-05:00",
          "2024-12-05T00:00:00-05:00",
          "2024-12-06T00:00:00-05:00",
          "2024-12-09T00:00:00-05:00",
          "2024-12-10T00:00:00-05:00",
          "2024-12-11T00:00:00-05:00",
          "2024-12-12T00:00:00-05:00",
          "2024-12-13T00:00:00-05:00",
          "2024-12-16T00:00:00-05:00",
          "2024-12-17T00:00:00-05:00",
          "2024-12-18T00:00:00-05:00",
          "2024-12-19T00:00:00-05:00",
          "2024-12-20T00:00:00-05:00",
          "2024-12-23T00:00:00-05:00",
          "2024-12-24T00:00:00-05:00",
          "2024-12-26T00:00:00-05:00",
          "2024-12-27T00:00:00-05:00",
          "2024-12-30T00:00:00-05:00",
          "2024-12-31T00:00:00-05:00",
          "2025-01-02T00:00:00-05:00",
          "2025-01-03T00:00:00-05:00",
          "2025-01-06T00:00:00-05:00",
          "2025-01-07T00:00:00-05:00",
          "2025-01-08T00:00:00-05:00",
          "2025-01-10T00:00:00-05:00",
          "2025-01-13T00:00:00-05:00",
          "2025-01-14T00:00:00-05:00",
          "2025-01-15T00:00:00-05:00",
          "2025-01-16T00:00:00-05:00",
          "2025-01-17T00:00:00-05:00",
          "2025-01-21T00:00:00-05:00",
          "2025-01-22T00:00:00-05:00",
          "2025-01-23T00:00:00-05:00",
          "2025-01-24T00:00:00-05:00",
          "2025-01-27T00:00:00-05:00",
          "2025-01-28T00:00:00-05:00",
          "2025-01-29T00:00:00-05:00",
          "2025-01-30T00:00:00-05:00",
          "2025-01-31T00:00:00-05:00",
          "2025-02-03T00:00:00-05:00",
          "2025-02-04T00:00:00-05:00",
          "2025-02-05T00:00:00-05:00",
          "2025-02-06T00:00:00-05:00",
          "2025-02-07T00:00:00-05:00",
          "2025-02-10T00:00:00-05:00",
          "2025-02-11T00:00:00-05:00",
          "2025-02-12T00:00:00-05:00",
          "2025-02-13T00:00:00-05:00",
          "2025-02-14T00:00:00-05:00",
          "2025-02-18T00:00:00-05:00",
          "2025-02-19T00:00:00-05:00",
          "2025-02-20T00:00:00-05:00",
          "2025-02-21T00:00:00-05:00",
          "2025-02-24T00:00:00-05:00",
          "2025-02-25T00:00:00-05:00",
          "2025-02-26T00:00:00-05:00",
          "2025-02-27T00:00:00-05:00",
          "2025-02-28T00:00:00-05:00",
          "2025-03-03T00:00:00-05:00",
          "2025-03-04T00:00:00-05:00",
          "2025-03-05T00:00:00-05:00",
          "2025-03-06T00:00:00-05:00",
          "2025-03-07T00:00:00-05:00",
          "2025-03-10T00:00:00-04:00",
          "2025-03-11T00:00:00-04:00",
          "2025-03-12T00:00:00-04:00",
          "2025-03-13T00:00:00-04:00",
          "2025-03-14T00:00:00-04:00",
          "2025-03-17T00:00:00-04:00",
          "2025-03-18T00:00:00-04:00",
          "2025-03-19T00:00:00-04:00",
          "2025-03-20T00:00:00-04:00",
          "2025-03-21T00:00:00-04:00",
          "2025-03-24T00:00:00-04:00",
          "2025-03-25T00:00:00-04:00",
          "2025-03-26T00:00:00-04:00",
          "2025-03-27T00:00:00-04:00",
          "2025-03-28T00:00:00-04:00",
          "2025-03-31T00:00:00-04:00",
          "2025-04-01T00:00:00-04:00",
          "2025-04-02T00:00:00-04:00",
          "2025-04-03T00:00:00-04:00",
          "2025-04-04T00:00:00-04:00",
          "2025-04-07T00:00:00-04:00",
          "2025-04-08T00:00:00-04:00",
          "2025-04-09T00:00:00-04:00",
          "2025-04-10T00:00:00-04:00",
          "2025-04-11T00:00:00-04:00",
          "2025-04-14T00:00:00-04:00",
          "2025-04-15T00:00:00-04:00",
          "2025-04-16T00:00:00-04:00",
          "2025-04-17T00:00:00-04:00",
          "2025-04-21T00:00:00-04:00",
          "2025-04-22T00:00:00-04:00",
          "2025-04-23T00:00:00-04:00",
          "2025-04-24T00:00:00-04:00",
          "2025-04-25T00:00:00-04:00",
          "2025-04-28T00:00:00-04:00",
          "2025-04-29T00:00:00-04:00",
          "2025-04-30T00:00:00-04:00",
          "2025-05-01T00:00:00-04:00",
          "2025-05-02T00:00:00-04:00",
          "2025-05-05T00:00:00-04:00",
          "2025-05-06T00:00:00-04:00",
          "2025-05-07T00:00:00-04:00",
          "2025-05-08T00:00:00-04:00",
          "2025-05-09T00:00:00-04:00",
          "2025-05-12T00:00:00-04:00",
          "2025-05-13T00:00:00-04:00",
          "2025-05-14T00:00:00-04:00",
          "2025-05-15T00:00:00-04:00",
          "2025-05-16T00:00:00-04:00",
          "2025-05-19T00:00:00-04:00",
          "2025-05-20T00:00:00-04:00",
          "2025-05-21T00:00:00-04:00",
          "2025-05-22T00:00:00-04:00",
          "2025-05-23T00:00:00-04:00",
          "2025-05-27T00:00:00-04:00",
          "2025-05-28T00:00:00-04:00",
          "2025-05-29T00:00:00-04:00",
          "2025-05-30T00:00:00-04:00",
          "2025-06-02T00:00:00-04:00",
          "2025-06-03T00:00:00-04:00"
         ],
         "xaxis": "x",
         "y": {
          "bdata": "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",
          "dtype": "f8"
         },
         "yaxis": "y"
        },
        {
         "line": {
          "color": "red"
         },
         "name": "SMA 50",
         "type": "scatter",
         "x": [
          "2024-06-03T00:00:00-04:00",
          "2024-06-04T00:00:00-04:00",
          "2024-06-05T00:00:00-04:00",
          "2024-06-06T00:00:00-04:00",
          "2024-06-07T00:00:00-04:00",
          "2024-06-10T00:00:00-04:00",
          "2024-06-11T00:00:00-04:00",
          "2024-06-12T00:00:00-04:00",
          "2024-06-13T00:00:00-04:00",
          "2024-06-14T00:00:00-04:00",
          "2024-06-17T00:00:00-04:00",
          "2024-06-18T00:00:00-04:00",
          "2024-06-20T00:00:00-04:00",
          "2024-06-21T00:00:00-04:00",
          "2024-06-24T00:00:00-04:00",
          "2024-06-25T00:00:00-04:00",
          "2024-06-26T00:00:00-04:00",
          "2024-06-27T00:00:00-04:00",
          "2024-06-28T00:00:00-04:00",
          "2024-07-01T00:00:00-04:00",
          "2024-07-02T00:00:00-04:00",
          "2024-07-03T00:00:00-04:00",
          "2024-07-05T00:00:00-04:00",
          "2024-07-08T00:00:00-04:00",
          "2024-07-09T00:00:00-04:00",
          "2024-07-10T00:00:00-04:00",
          "2024-07-11T00:00:00-04:00",
          "2024-07-12T00:00:00-04:00",
          "2024-07-15T00:00:00-04:00",
          "2024-07-16T00:00:00-04:00",
          "2024-07-17T00:00:00-04:00",
          "2024-07-18T00:00:00-04:00",
          "2024-07-19T00:00:00-04:00",
          "2024-07-22T00:00:00-04:00",
          "2024-07-23T00:00:00-04:00",
          "2024-07-24T00:00:00-04:00",
          "2024-07-25T00:00:00-04:00",
          "2024-07-26T00:00:00-04:00",
          "2024-07-29T00:00:00-04:00",
          "2024-07-30T00:00:00-04:00",
          "2024-07-31T00:00:00-04:00",
          "2024-08-01T00:00:00-04:00",
          "2024-08-02T00:00:00-04:00",
          "2024-08-05T00:00:00-04:00",
          "2024-08-06T00:00:00-04:00",
          "2024-08-07T00:00:00-04:00",
          "2024-08-08T00:00:00-04:00",
          "2024-08-09T00:00:00-04:00",
          "2024-08-12T00:00:00-04:00",
          "2024-08-13T00:00:00-04:00",
          "2024-08-14T00:00:00-04:00",
          "2024-08-15T00:00:00-04:00",
          "2024-08-16T00:00:00-04:00",
          "2024-08-19T00:00:00-04:00",
          "2024-08-20T00:00:00-04:00",
          "2024-08-21T00:00:00-04:00",
          "2024-08-22T00:00:00-04:00",
          "2024-08-23T00:00:00-04:00",
          "2024-08-26T00:00:00-04:00",
          "2024-08-27T00:00:00-04:00",
          "2024-08-28T00:00:00-04:00",
          "2024-08-29T00:00:00-04:00",
          "2024-08-30T00:00:00-04:00",
          "2024-09-03T00:00:00-04:00",
          "2024-09-04T00:00:00-04:00",
          "2024-09-05T00:00:00-04:00",
          "2024-09-06T00:00:00-04:00",
          "2024-09-09T00:00:00-04:00",
          "2024-09-10T00:00:00-04:00",
          "2024-09-11T00:00:00-04:00",
          "2024-09-12T00:00:00-04:00",
          "2024-09-13T00:00:00-04:00",
          "2024-09-16T00:00:00-04:00",
          "2024-09-17T00:00:00-04:00",
          "2024-09-18T00:00:00-04:00",
          "2024-09-19T00:00:00-04:00",
          "2024-09-20T00:00:00-04:00",
          "2024-09-23T00:00:00-04:00",
          "2024-09-24T00:00:00-04:00",
          "2024-09-25T00:00:00-04:00",
          "2024-09-26T00:00:00-04:00",
          "2024-09-27T00:00:00-04:00",
          "2024-09-30T00:00:00-04:00",
          "2024-10-01T00:00:00-04:00",
          "2024-10-02T00:00:00-04:00",
          "2024-10-03T00:00:00-04:00",
          "2024-10-04T00:00:00-04:00",
          "2024-10-07T00:00:00-04:00",
          "2024-10-08T00:00:00-04:00",
          "2024-10-09T00:00:00-04:00",
          "2024-10-10T00:00:00-04:00",
          "2024-10-11T00:00:00-04:00",
          "2024-10-14T00:00:00-04:00",
          "2024-10-15T00:00:00-04:00",
          "2024-10-16T00:00:00-04:00",
          "2024-10-17T00:00:00-04:00",
          "2024-10-18T00:00:00-04:00",
          "2024-10-21T00:00:00-04:00",
          "2024-10-22T00:00:00-04:00",
          "2024-10-23T00:00:00-04:00",
          "2024-10-24T00:00:00-04:00",
          "2024-10-25T00:00:00-04:00",
          "2024-10-28T00:00:00-04:00",
          "2024-10-29T00:00:00-04:00",
          "2024-10-30T00:00:00-04:00",
          "2024-10-31T00:00:00-04:00",
          "2024-11-01T00:00:00-04:00",
          "2024-11-04T00:00:00-05:00",
          "2024-11-05T00:00:00-05:00",
          "2024-11-06T00:00:00-05:00",
          "2024-11-07T00:00:00-05:00",
          "2024-11-08T00:00:00-05:00",
          "2024-11-11T00:00:00-05:00",
          "2024-11-12T00:00:00-05:00",
          "2024-11-13T00:00:00-05:00",
          "2024-11-14T00:00:00-05:00",
          "2024-11-15T00:00:00-05:00",
          "2024-11-18T00:00:00-05:00",
          "2024-11-19T00:00:00-05:00",
          "2024-11-20T00:00:00-05:00",
          "2024-11-21T00:00:00-05:00",
          "2024-11-22T00:00:00-05:00",
          "2024-11-25T00:00:00-05:00",
          "2024-11-26T00:00:00-05:00",
          "2024-11-27T00:00:00-05:00",
          "2024-11-29T00:00:00-05:00",
          "2024-12-02T00:00:00-05:00",
          "2024-12-03T00:00:00-05:00",
          "2024-12-04T00:00:00-05:00",
          "2024-12-05T00:00:00-05:00",
          "2024-12-06T00:00:00-05:00",
          "2024-12-09T00:00:00-05:00",
          "2024-12-10T00:00:00-05:00",
          "2024-12-11T00:00:00-05:00",
          "2024-12-12T00:00:00-05:00",
          "2024-12-13T00:00:00-05:00",
          "2024-12-16T00:00:00-05:00",
          "2024-12-17T00:00:00-05:00",
          "2024-12-18T00:00:00-05:00",
          "2024-12-19T00:00:00-05:00",
          "2024-12-20T00:00:00-05:00",
          "2024-12-23T00:00:00-05:00",
          "2024-12-24T00:00:00-05:00",
          "2024-12-26T00:00:00-05:00",
          "2024-12-27T00:00:00-05:00",
          "2024-12-30T00:00:00-05:00",
          "2024-12-31T00:00:00-05:00",
          "2025-01-02T00:00:00-05:00",
          "2025-01-03T00:00:00-05:00",
          "2025-01-06T00:00:00-05:00",
          "2025-01-07T00:00:00-05:00",
          "2025-01-08T00:00:00-05:00",
          "2025-01-10T00:00:00-05:00",
          "2025-01-13T00:00:00-05:00",
          "2025-01-14T00:00:00-05:00",
          "2025-01-15T00:00:00-05:00",
          "2025-01-16T00:00:00-05:00",
          "2025-01-17T00:00:00-05:00",
          "2025-01-21T00:00:00-05:00",
          "2025-01-22T00:00:00-05:00",
          "2025-01-23T00:00:00-05:00",
          "2025-01-24T00:00:00-05:00",
          "2025-01-27T00:00:00-05:00",
          "2025-01-28T00:00:00-05:00",
          "2025-01-29T00:00:00-05:00",
          "2025-01-30T00:00:00-05:00",
          "2025-01-31T00:00:00-05:00",
          "2025-02-03T00:00:00-05:00",
          "2025-02-04T00:00:00-05:00",
          "2025-02-05T00:00:00-05:00",
          "2025-02-06T00:00:00-05:00",
          "2025-02-07T00:00:00-05:00",
          "2025-02-10T00:00:00-05:00",
          "2025-02-11T00:00:00-05:00",
          "2025-02-12T00:00:00-05:00",
          "2025-02-13T00:00:00-05:00",
          "2025-02-14T00:00:00-05:00",
          "2025-02-18T00:00:00-05:00",
          "2025-02-19T00:00:00-05:00",
          "2025-02-20T00:00:00-05:00",
          "2025-02-21T00:00:00-05:00",
          "2025-02-24T00:00:00-05:00",
          "2025-02-25T00:00:00-05:00",
          "2025-02-26T00:00:00-05:00",
          "2025-02-27T00:00:00-05:00",
          "2025-02-28T00:00:00-05:00",
          "2025-03-03T00:00:00-05:00",
          "2025-03-04T00:00:00-05:00",
          "2025-03-05T00:00:00-05:00",
          "2025-03-06T00:00:00-05:00",
          "2025-03-07T00:00:00-05:00",
          "2025-03-10T00:00:00-04:00",
          "2025-03-11T00:00:00-04:00",
          "2025-03-12T00:00:00-04:00",
          "2025-03-13T00:00:00-04:00",
          "2025-03-14T00:00:00-04:00",
          "2025-03-17T00:00:00-04:00",
          "2025-03-18T00:00:00-04:00",
          "2025-03-19T00:00:00-04:00",
          "2025-03-20T00:00:00-04:00",
          "2025-03-21T00:00:00-04:00",
          "2025-03-24T00:00:00-04:00",
          "2025-03-25T00:00:00-04:00",
          "2025-03-26T00:00:00-04:00",
          "2025-03-27T00:00:00-04:00",
          "2025-03-28T00:00:00-04:00",
          "2025-03-31T00:00:00-04:00",
          "2025-04-01T00:00:00-04:00",
          "2025-04-02T00:00:00-04:00",
          "2025-04-03T00:00:00-04:00",
          "2025-04-04T00:00:00-04:00",
          "2025-04-07T00:00:00-04:00",
          "2025-04-08T00:00:00-04:00",
          "2025-04-09T00:00:00-04:00",
          "2025-04-10T00:00:00-04:00",
          "2025-04-11T00:00:00-04:00",
          "2025-04-14T00:00:00-04:00",
          "2025-04-15T00:00:00-04:00",
          "2025-04-16T00:00:00-04:00",
          "2025-04-17T00:00:00-04:00",
          "2025-04-21T00:00:00-04:00",
          "2025-04-22T00:00:00-04:00",
          "2025-04-23T00:00:00-04:00",
          "2025-04-24T00:00:00-04:00",
          "2025-04-25T00:00:00-04:00",
          "2025-04-28T00:00:00-04:00",
          "2025-04-29T00:00:00-04:00",
          "2025-04-30T00:00:00-04:00",
          "2025-05-01T00:00:00-04:00",
          "2025-05-02T00:00:00-04:00",
          "2025-05-05T00:00:00-04:00",
          "2025-05-06T00:00:00-04:00",
          "2025-05-07T00:00:00-04:00",
          "2025-05-08T00:00:00-04:00",
          "2025-05-09T00:00:00-04:00",
          "2025-05-12T00:00:00-04:00",
          "2025-05-13T00:00:00-04:00",
          "2025-05-14T00:00:00-04:00",
          "2025-05-15T00:00:00-04:00",
          "2025-05-16T00:00:00-04:00",
          "2025-05-19T00:00:00-04:00",
          "2025-05-20T00:00:00-04:00",
          "2025-05-21T00:00:00-04:00",
          "2025-05-22T00:00:00-04:00",
          "2025-05-23T00:00:00-04:00",
          "2025-05-27T00:00:00-04:00",
          "2025-05-28T00:00:00-04:00",
          "2025-05-29T00:00:00-04:00",
          "2025-05-30T00:00:00-04:00",
          "2025-06-02T00:00:00-04:00",
          "2025-06-03T00:00:00-04:00"
         ],
         "xaxis": "x",
         "y": {
          "bdata": "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",
          "dtype": "f8"
         },
         "yaxis": "y"
        },
        {
         "name": "Volume",
         "type": "bar",
         "x": [
          "2024-06-03T00:00:00-04:00",
          "2024-06-04T00:00:00-04:00",
          "2024-06-05T00:00:00-04:00",
          "2024-06-06T00:00:00-04:00",
          "2024-06-07T00:00:00-04:00",
          "2024-06-10T00:00:00-04:00",
          "2024-06-11T00:00:00-04:00",
          "2024-06-12T00:00:00-04:00",
          "2024-06-13T00:00:00-04:00",
          "2024-06-14T00:00:00-04:00",
          "2024-06-17T00:00:00-04:00",
          "2024-06-18T00:00:00-04:00",
          "2024-06-20T00:00:00-04:00",
          "2024-06-21T00:00:00-04:00",
          "2024-06-24T00:00:00-04:00",
          "2024-06-25T00:00:00-04:00",
          "2024-06-26T00:00:00-04:00",
          "2024-06-27T00:00:00-04:00",
          "2024-06-28T00:00:00-04:00",
          "2024-07-01T00:00:00-04:00",
          "2024-07-02T00:00:00-04:00",
          "2024-07-03T00:00:00-04:00",
          "2024-07-05T00:00:00-04:00",
          "2024-07-08T00:00:00-04:00",
          "2024-07-09T00:00:00-04:00",
          "2024-07-10T00:00:00-04:00",
          "2024-07-11T00:00:00-04:00",
          "2024-07-12T00:00:00-04:00",
          "2024-07-15T00:00:00-04:00",
          "2024-07-16T00:00:00-04:00",
          "2024-07-17T00:00:00-04:00",
          "2024-07-18T00:00:00-04:00",
          "2024-07-19T00:00:00-04:00",
          "2024-07-22T00:00:00-04:00",
          "2024-07-23T00:00:00-04:00",
          "2024-07-24T00:00:00-04:00",
          "2024-07-25T00:00:00-04:00",
          "2024-07-26T00:00:00-04:00",
          "2024-07-29T00:00:00-04:00",
          "2024-07-30T00:00:00-04:00",
          "2024-07-31T00:00:00-04:00",
          "2024-08-01T00:00:00-04:00",
          "2024-08-02T00:00:00-04:00",
          "2024-08-05T00:00:00-04:00",
          "2024-08-06T00:00:00-04:00",
          "2024-08-07T00:00:00-04:00",
          "2024-08-08T00:00:00-04:00",
          "2024-08-09T00:00:00-04:00",
          "2024-08-12T00:00:00-04:00",
          "2024-08-13T00:00:00-04:00",
          "2024-08-14T00:00:00-04:00",
          "2024-08-15T00:00:00-04:00",
          "2024-08-16T00:00:00-04:00",
          "2024-08-19T00:00:00-04:00",
          "2024-08-20T00:00:00-04:00",
          "2024-08-21T00:00:00-04:00",
          "2024-08-22T00:00:00-04:00",
          "2024-08-23T00:00:00-04:00",
          "2024-08-26T00:00:00-04:00",
          "2024-08-27T00:00:00-04:00",
          "2024-08-28T00:00:00-04:00",
          "2024-08-29T00:00:00-04:00",
          "2024-08-30T00:00:00-04:00",
          "2024-09-03T00:00:00-04:00",
          "2024-09-04T00:00:00-04:00",
          "2024-09-05T00:00:00-04:00",
          "2024-09-06T00:00:00-04:00",
          "2024-09-09T00:00:00-04:00",
          "2024-09-10T00:00:00-04:00",
          "2024-09-11T00:00:00-04:00",
          "2024-09-12T00:00:00-04:00",
          "2024-09-13T00:00:00-04:00",
          "2024-09-16T00:00:00-04:00",
          "2024-09-17T00:00:00-04:00",
          "2024-09-18T00:00:00-04:00",
          "2024-09-19T00:00:00-04:00",
          "2024-09-20T00:00:00-04:00",
          "2024-09-23T00:00:00-04:00",
          "2024-09-24T00:00:00-04:00",
          "2024-09-25T00:00:00-04:00",
          "2024-09-26T00:00:00-04:00",
          "2024-09-27T00:00:00-04:00",
          "2024-09-30T00:00:00-04:00",
          "2024-10-01T00:00:00-04:00",
          "2024-10-02T00:00:00-04:00",
          "2024-10-03T00:00:00-04:00",
          "2024-10-04T00:00:00-04:00",
          "2024-10-07T00:00:00-04:00",
          "2024-10-08T00:00:00-04:00",
          "2024-10-09T00:00:00-04:00",
          "2024-10-10T00:00:00-04:00",
          "2024-10-11T00:00:00-04:00",
          "2024-10-14T00:00:00-04:00",
          "2024-10-15T00:00:00-04:00",
          "2024-10-16T00:00:00-04:00",
          "2024-10-17T00:00:00-04:00",
          "2024-10-18T00:00:00-04:00",
          "2024-10-21T00:00:00-04:00",
          "2024-10-22T00:00:00-04:00",
          "2024-10-23T00:00:00-04:00",
          "2024-10-24T00:00:00-04:00",
          "2024-10-25T00:00:00-04:00",
          "2024-10-28T00:00:00-04:00",
          "2024-10-29T00:00:00-04:00",
          "2024-10-30T00:00:00-04:00",
          "2024-10-31T00:00:00-04:00",
          "2024-11-01T00:00:00-04:00",
          "2024-11-04T00:00:00-05:00",
          "2024-11-05T00:00:00-05:00",
          "2024-11-06T00:00:00-05:00",
          "2024-11-07T00:00:00-05:00",
          "2024-11-08T00:00:00-05:00",
          "2024-11-11T00:00:00-05:00",
          "2024-11-12T00:00:00-05:00",
          "2024-11-13T00:00:00-05:00",
          "2024-11-14T00:00:00-05:00",
          "2024-11-15T00:00:00-05:00",
          "2024-11-18T00:00:00-05:00",
          "2024-11-19T00:00:00-05:00",
          "2024-11-20T00:00:00-05:00",
          "2024-11-21T00:00:00-05:00",
          "2024-11-22T00:00:00-05:00",
          "2024-11-25T00:00:00-05:00",
          "2024-11-26T00:00:00-05:00",
          "2024-11-27T00:00:00-05:00",
          "2024-11-29T00:00:00-05:00",
          "2024-12-02T00:00:00-05:00",
          "2024-12-03T00:00:00-05:00",
          "2024-12-04T00:00:00-05:00",
          "2024-12-05T00:00:00-05:00",
          "2024-12-06T00:00:00-05:00",
          "2024-12-09T00:00:00-05:00",
          "2024-12-10T00:00:00-05:00",
          "2024-12-11T00:00:00-05:00",
          "2024-12-12T00:00:00-05:00",
          "2024-12-13T00:00:00-05:00",
          "2024-12-16T00:00:00-05:00",
          "2024-12-17T00:00:00-05:00",
          "2024-12-18T00:00:00-05:00",
          "2024-12-19T00:00:00-05:00",
          "2024-12-20T00:00:00-05:00",
          "2024-12-23T00:00:00-05:00",
          "2024-12-24T00:00:00-05:00",
          "2024-12-26T00:00:00-05:00",
          "2024-12-27T00:00:00-05:00",
          "2024-12-30T00:00:00-05:00",
          "2024-12-31T00:00:00-05:00",
          "2025-01-02T00:00:00-05:00",
          "2025-01-03T00:00:00-05:00",
          "2025-01-06T00:00:00-05:00",
          "2025-01-07T00:00:00-05:00",
          "2025-01-08T00:00:00-05:00",
          "2025-01-10T00:00:00-05:00",
          "2025-01-13T00:00:00-05:00",
          "2025-01-14T00:00:00-05:00",
          "2025-01-15T00:00:00-05:00",
          "2025-01-16T00:00:00-05:00",
          "2025-01-17T00:00:00-05:00",
          "2025-01-21T00:00:00-05:00",
          "2025-01-22T00:00:00-05:00",
          "2025-01-23T00:00:00-05:00",
          "2025-01-24T00:00:00-05:00",
          "2025-01-27T00:00:00-05:00",
          "2025-01-28T00:00:00-05:00",
          "2025-01-29T00:00:00-05:00",
          "2025-01-30T00:00:00-05:00",
          "2025-01-31T00:00:00-05:00",
          "2025-02-03T00:00:00-05:00",
          "2025-02-04T00:00:00-05:00",
          "2025-02-05T00:00:00-05:00",
          "2025-02-06T00:00:00-05:00",
          "2025-02-07T00:00:00-05:00",
          "2025-02-10T00:00:00-05:00",
          "2025-02-11T00:00:00-05:00",
          "2025-02-12T00:00:00-05:00",
          "2025-02-13T00:00:00-05:00",
          "2025-02-14T00:00:00-05:00",
          "2025-02-18T00:00:00-05:00",
          "2025-02-19T00:00:00-05:00",
          "2025-02-20T00:00:00-05:00",
          "2025-02-21T00:00:00-05:00",
          "2025-02-24T00:00:00-05:00",
          "2025-02-25T00:00:00-05:00",
          "2025-02-26T00:00:00-05:00",
          "2025-02-27T00:00:00-05:00",
          "2025-02-28T00:00:00-05:00",
          "2025-03-03T00:00:00-05:00",
          "2025-03-04T00:00:00-05:00",
          "2025-03-05T00:00:00-05:00",
          "2025-03-06T00:00:00-05:00",
          "2025-03-07T00:00:00-05:00",
          "2025-03-10T00:00:00-04:00",
          "2025-03-11T00:00:00-04:00",
          "2025-03-12T00:00:00-04:00",
          "2025-03-13T00:00:00-04:00",
          "2025-03-14T00:00:00-04:00",
          "2025-03-17T00:00:00-04:00",
          "2025-03-18T00:00:00-04:00",
          "2025-03-19T00:00:00-04:00",
          "2025-03-20T00:00:00-04:00",
          "2025-03-21T00:00:00-04:00",
          "2025-03-24T00:00:00-04:00",
          "2025-03-25T00:00:00-04:00",
          "2025-03-26T00:00:00-04:00",
          "2025-03-27T00:00:00-04:00",
          "2025-03-28T00:00:00-04:00",
          "2025-03-31T00:00:00-04:00",
          "2025-04-01T00:00:00-04:00",
          "2025-04-02T00:00:00-04:00",
          "2025-04-03T00:00:00-04:00",
          "2025-04-04T00:00:00-04:00",
          "2025-04-07T00:00:00-04:00",
          "2025-04-08T00:00:00-04:00",
          "2025-04-09T00:00:00-04:00",
          "2025-04-10T00:00:00-04:00",
          "2025-04-11T00:00:00-04:00",
          "2025-04-14T00:00:00-04:00",
          "2025-04-15T00:00:00-04:00",
          "2025-04-16T00:00:00-04:00",
          "2025-04-17T00:00:00-04:00",
          "2025-04-21T00:00:00-04:00",
          "2025-04-22T00:00:00-04:00",
          "2025-04-23T00:00:00-04:00",
          "2025-04-24T00:00:00-04:00",
          "2025-04-25T00:00:00-04:00",
          "2025-04-28T00:00:00-04:00",
          "2025-04-29T00:00:00-04:00",
          "2025-04-30T00:00:00-04:00",
          "2025-05-01T00:00:00-04:00",
          "2025-05-02T00:00:00-04:00",
          "2025-05-05T00:00:00-04:00",
          "2025-05-06T00:00:00-04:00",
          "2025-05-07T00:00:00-04:00",
          "2025-05-08T00:00:00-04:00",
          "2025-05-09T00:00:00-04:00",
          "2025-05-12T00:00:00-04:00",
          "2025-05-13T00:00:00-04:00",
          "2025-05-14T00:00:00-04:00",
          "2025-05-15T00:00:00-04:00",
          "2025-05-16T00:00:00-04:00",
          "2025-05-19T00:00:00-04:00",
          "2025-05-20T00:00:00-04:00",
          "2025-05-21T00:00:00-04:00",
          "2025-05-22T00:00:00-04:00",
          "2025-05-23T00:00:00-04:00",
          "2025-05-27T00:00:00-04:00",
          "2025-05-28T00:00:00-04:00",
          "2025-05-29T00:00:00-04:00",
          "2025-05-30T00:00:00-04:00",
          "2025-06-02T00:00:00-04:00",
          "2025-06-03T00:00:00-04:00"
         ],
         "xaxis": "x2",
         "y": {
          "bdata": "9Cr8Aihb1AIAXjoDaGJ0AhxNKgMUGswFNDVGChxKzwssRNUFzPwtBCwulgWE1sMEVOMiBZgXsA7Yy88ErGJhA1BV8gOcePcCbIDrBNSsmQP4tnUDyDc6AvDRmQNMlIUDRJXdAnSfuwPIZ9sD5GwpA4StuwP8s5MCbAdrA6ib7wMM/u0CSIDfAuy+YQLApq4D4CoQAxTJegL4EioCGG97Akx++wKIsLkDWNlKBrgqIAdU7yYE8C7JAwyfzwIA8oMCRENEAqTBoQKYRIACsDjEAuiTpAK42GwCeFPOAbx6EgLEvJoCNCtOAtjz0gGIUSQCaKFEAvwGGANQkygDCNn9AsjynALotC4CWODiAuAVAQRYNxMDXFioAlgtPAKIAzEC2LiJA8SRtgJ07JEDdAD7A1yr/hLQMzoDBJ2YAlyUhQIcCC8CEDIHAkw+QAMIp8UD2Lf1ASh5BwKsUDgC+M1aAlQU5gE8jwACzAuuAWCb5AF0jWACKAfcA5gNCAIIcvcBDH3EAiQzKQKIwFACGNYdA3yx2gF8E1ACPKUmAnBsHAK0Ps4CtDXWAxwL5AN0zK0CxPGsAUyJQANk+IIC4NlIAmD0gALcbWgCuA/lAvx7rQL0QdsCsNqpAliMKAJApRgCjIWCAuxmRgJgn18FmLG9AiAl/wF4l7IBjIPeAsj4UAKcPqUCbN5iAsiZMgLwSqkCcEYzAijJsQIcJfQB5Oj5AdDMFAPwog8D1E1iA3z9oAOEmcoIsHRvAoyIYgHsmp8BZEqGAnyQHgJ8bVoCHIlSA4QTZgJgV68CwGlvAuQrPgI0oq0D7E31AiS8WQLAyV8C/PRGBGwMFQSAb9gFJH7SAzAclwOsn0IDKICnBdA0gwQUELYCPEdRA5xIBgaE21oEJKyvAsyOXAK0n8gBQOJdAtBN+QGArTMDpFuyAhQWMgPIBnAC5PjoAqhl6wHkHe0BWLorA8AtDwP0n9wCwACmAkD0cwJ4NWMDgPjPAtTkNAPQotAC4D6xAkAUwgIguEsEuMOJBCxmugPsZ6gDUCuVA7iK3QKQd4cC+No9A7SW6QK4RpwF7PSjAqBUDgI06Q0CkAU2AmiVXwJkY+QDHJ0rAmzhIwJ4DCoGdD+BB3yFkAlsKzQHfKj9CsC9Qwd8KjYFxIUKBhxyDwOwcY8DnEwPA+Q7yQIQWygDsKInA5jo0QLcOUcCPCxPAtDxMQIk1B0DxFRrA6hMBQaEIx0EdIANA3zJFQQ0PwIDDD4sAjgkzQO0EhgD6KbwAnwYrwLsO0MDVAzAAlhyiAIYgIcDgDvJAoTKrAT05FoDNNSzAsBAEAM8oDgE/EobAjOqPwA=",
          "dtype": "i4"
         },
         "yaxis": "y2"
        }
       ],
       "layout": {
        "template": {
         "data": {
          "bar": [
           {
            "error_x": {
             "color": "#2a3f5f"
            },
            "error_y": {
             "color": "#2a3f5f"
            },
            "marker": {
             "line": {
              "color": "white",
              "width": 0.5
             },
             "pattern": {
              "fillmode": "overlay",
              "size": 10,
              "solidity": 0.2
             }
            },
            "type": "bar"
           }
          ],
          "barpolar": [
           {
            "marker": {
             "line": {
              "color": "white",
              "width": 0.5
             },
             "pattern": {
              "fillmode": "overlay",
              "size": 10,
              "solidity": 0.2
             }
            },
            "type": "barpolar"
           }
          ],
          "carpet": [
           {
            "aaxis": {
             "endlinecolor": "#2a3f5f",
             "gridcolor": "#C8D4E3",
             "linecolor": "#C8D4E3",
             "minorgridcolor": "#C8D4E3",
             "startlinecolor": "#2a3f5f"
            },
            "baxis": {
             "endlinecolor": "#2a3f5f",
             "gridcolor": "#C8D4E3",
             "linecolor": "#C8D4E3",
             "minorgridcolor": "#C8D4E3",
             "startlinecolor": "#2a3f5f"
            },
            "type": "carpet"
           }
          ],
          "choropleth": [
           {
            "colorbar": {
             "outlinewidth": 0,
             "ticks": ""
            },
            "type": "choropleth"
           }
          ],
          "contour": [
           {
            "colorbar": {
             "outlinewidth": 0,
             "ticks": ""
            },
            "colorscale": [
             [
              0,
              "#0d0887"
             ],
             [
              0.1111111111111111,
              "#46039f"
             ],
             [
              0.2222222222222222,
              "#7201a8"
             ],
             [
              0.3333333333333333,
              "#9c179e"
             ],
             [
              0.4444444444444444,
              "#bd3786"
             ],
             [
              0.5555555555555556,
              "#d8576b"
             ],
             [
              0.6666666666666666,
              "#ed7953"
             ],
             [
              0.7777777777777778,
              "#fb9f3a"
             ],
             [
              0.8888888888888888,
              "#fdca26"
             ],
             [
              1,
              "#f0f921"
             ]
            ],
            "type": "contour"
           }
          ],
          "contourcarpet": [
           {
            "colorbar": {
             "outlinewidth": 0,
             "ticks": ""
            },
            "type": "contourcarpet"
           }
          ],
          "heatmap": [
           {
            "colorbar": {
             "outlinewidth": 0,
             "ticks": ""
            },
            "colorscale": [
             [
              0,
              "#0d0887"
             ],
             [
              0.1111111111111111,
              "#46039f"
             ],
             [
              0.2222222222222222,
              "#7201a8"
             ],
             [
              0.3333333333333333,
              "#9c179e"
             ],
             [
              0.4444444444444444,
              "#bd3786"
             ],
             [
              0.5555555555555556,
              "#d8576b"
             ],
             [
              0.6666666666666666,
              "#ed7953"
             ],
             [
              0.7777777777777778,
              "#fb9f3a"
             ],
             [
              0.8888888888888888,
              "#fdca26"
             ],
             [
              1,
              "#f0f921"
             ]
            ],
            "type": "heatmap"
           }
          ],
          "histogram": [
           {
            "marker": {
             "pattern": {
              "fillmode": "overlay",
              "size": 10,
              "solidity": 0.2
             }
            },
            "type": "histogram"
           }
          ],
          "histogram2d": [
           {
            "colorbar": {
             "outlinewidth": 0,
             "ticks": ""
            },
            "colorscale": [
             [
              0,
              "#0d0887"
             ],
             [
              0.1111111111111111,
              "#46039f"
             ],
             [
              0.2222222222222222,
              "#7201a8"
             ],
             [
              0.3333333333333333,
              "#9c179e"
             ],
             [
              0.4444444444444444,
              "#bd3786"
             ],
             [
              0.5555555555555556,
              "#d8576b"
             ],
             [
              0.6666666666666666,
              "#ed7953"
             ],
             [
              0.7777777777777778,
              "#fb9f3a"
             ],
             [
              0.8888888888888888,
              "#fdca26"
             ],
             [
              1,
              "#f0f921"
             ]
            ],
            "type": "histogram2d"
           }
          ],
          "histogram2dcontour": [
           {
            "colorbar": {
             "outlinewidth": 0,
             "ticks": ""
            },
            "colorscale": [
             [
              0,
              "#0d0887"
             ],
             [
              0.1111111111111111,
              "#46039f"
             ],
             [
              0.2222222222222222,
              "#7201a8"
             ],
             [
              0.3333333333333333,
              "#9c179e"
             ],
             [
              0.4444444444444444,
              "#bd3786"
             ],
             [
              0.5555555555555556,
              "#d8576b"
             ],
             [
              0.6666666666666666,
              "#ed7953"
             ],
             [
              0.7777777777777778,
              "#fb9f3a"
             ],
             [
              0.8888888888888888,
              "#fdca26"
             ],
             [
              1,
              "#f0f921"
             ]
            ],
            "type": "histogram2dcontour"
           }
          ],
          "mesh3d": [
           {
            "colorbar": {
             "outlinewidth": 0,
             "ticks": ""
            },
            "type": "mesh3d"
           }
          ],
          "parcoords": [
           {
            "line": {
             "colorbar": {
              "outlinewidth": 0,
              "ticks": ""
             }
            },
            "type": "parcoords"
           }
          ],
          "pie": [
           {
            "automargin": true,
            "type": "pie"
           }
          ],
          "scatter": [
           {
            "fillpattern": {
             "fillmode": "overlay",
             "size": 10,
             "solidity": 0.2
            },
            "type": "scatter"
           }
          ],
          "scatter3d": [
           {
            "line": {
             "colorbar": {
              "outlinewidth": 0,
              "ticks": ""
             }
            },
            "marker": {
             "colorbar": {
              "outlinewidth": 0,
              "ticks": ""
             }
            },
            "type": "scatter3d"
           }
          ],
          "scattercarpet": [
           {
            "marker": {
             "colorbar": {
              "outlinewidth": 0,
              "ticks": ""
             }
            },
            "type": "scattercarpet"
           }
          ],
          "scattergeo": [
           {
            "marker": {
             "colorbar": {
              "outlinewidth": 0,
              "ticks": ""
             }
            },
            "type": "scattergeo"
           }
          ],
          "scattergl": [
           {
            "marker": {
             "colorbar": {
              "outlinewidth": 0,
              "ticks": ""
             }
            },
            "type": "scattergl"
           }
          ],
          "scattermap": [
           {
            "marker": {
             "colorbar": {
              "outlinewidth": 0,
              "ticks": ""
             }
            },
            "type": "scattermap"
           }
          ],
          "scattermapbox": [
           {
            "marker": {
             "colorbar": {
              "outlinewidth": 0,
              "ticks": ""
             }
            },
            "type": "scattermapbox"
           }
          ],
          "scatterpolar": [
           {
            "marker": {
             "colorbar": {
              "outlinewidth": 0,
              "ticks": ""
             }
            },
            "type": "scatterpolar"
           }
          ],
          "scatterpolargl": [
           {
            "marker": {
             "colorbar": {
              "outlinewidth": 0,
              "ticks": ""
             }
            },
            "type": "scatterpolargl"
           }
          ],
          "scatterternary": [
           {
            "marker": {
             "colorbar": {
              "outlinewidth": 0,
              "ticks": ""
             }
            },
            "type": "scatterternary"
           }
          ],
          "surface": [
           {
            "colorbar": {
             "outlinewidth": 0,
             "ticks": ""
            },
            "colorscale": [
             [
              0,
              "#0d0887"
             ],
             [
              0.1111111111111111,
              "#46039f"
             ],
             [
              0.2222222222222222,
              "#7201a8"
             ],
             [
              0.3333333333333333,
              "#9c179e"
             ],
             [
              0.4444444444444444,
              "#bd3786"
             ],
             [
              0.5555555555555556,
              "#d8576b"
             ],
             [
              0.6666666666666666,
              "#ed7953"
             ],
             [
              0.7777777777777778,
              "#fb9f3a"
             ],
             [
              0.8888888888888888,
              "#fdca26"
             ],
             [
              1,
              "#f0f921"
             ]
            ],
            "type": "surface"
           }
          ],
          "table": [
           {
            "cells": {
             "fill": {
              "color": "#EBF0F8"
             },
             "line": {
              "color": "white"
             }
            },
            "header": {
             "fill": {
              "color": "#C8D4E3"
             },
             "line": {
              "color": "white"
             }
            },
            "type": "table"
           }
          ]
         },
         "layout": {
          "annotationdefaults": {
           "arrowcolor": "#2a3f5f",
           "arrowhead": 0,
           "arrowwidth": 1
          },
          "autotypenumbers": "strict",
          "coloraxis": {
           "colorbar": {
            "outlinewidth": 0,
            "ticks": ""
           }
          },
          "colorscale": {
           "diverging": [
            [
             0,
             "#8e0152"
            ],
            [
             0.1,
             "#c51b7d"
            ],
            [
             0.2,
             "#de77ae"
            ],
            [
             0.3,
             "#f1b6da"
            ],
            [
             0.4,
             "#fde0ef"
            ],
            [
             0.5,
             "#f7f7f7"
            ],
            [
             0.6,
             "#e6f5d0"
            ],
            [
             0.7,
             "#b8e186"
            ],
            [
             0.8,
             "#7fbc41"
            ],
            [
             0.9,
             "#4d9221"
            ],
            [
             1,
             "#276419"
            ]
           ],
           "sequential": [
            [
             0,
             "#0d0887"
            ],
            [
             0.1111111111111111,
             "#46039f"
            ],
            [
             0.2222222222222222,
             "#7201a8"
            ],
            [
             0.3333333333333333,
             "#9c179e"
            ],
            [
             0.4444444444444444,
             "#bd3786"
            ],
            [
             0.5555555555555556,
             "#d8576b"
            ],
            [
             0.6666666666666666,
             "#ed7953"
            ],
            [
             0.7777777777777778,
             "#fb9f3a"
            ],
            [
             0.8888888888888888,
             "#fdca26"
            ],
            [
             1,
             "#f0f921"
            ]
           ],
           "sequentialminus": [
            [
             0,
             "#0d0887"
            ],
            [
             0.1111111111111111,
             "#46039f"
            ],
            [
             0.2222222222222222,
             "#7201a8"
            ],
            [
             0.3333333333333333,
             "#9c179e"
            ],
            [
             0.4444444444444444,
             "#bd3786"
            ],
            [
             0.5555555555555556,
             "#d8576b"
            ],
            [
             0.6666666666666666,
             "#ed7953"
            ],
            [
             0.7777777777777778,
             "#fb9f3a"
            ],
            [
             0.8888888888888888,
             "#fdca26"
            ],
            [
             1,
             "#f0f921"
            ]
           ]
          },
          "colorway": [
           "#636efa",
           "#EF553B",
           "#00cc96",
           "#ab63fa",
           "#FFA15A",
           "#19d3f3",
           "#FF6692",
           "#B6E880",
           "#FF97FF",
           "#FECB52"
          ],
          "font": {
           "color": "#2a3f5f"
          },
          "geo": {
           "bgcolor": "white",
           "lakecolor": "white",
           "landcolor": "white",
           "showlakes": true,
           "showland": true,
           "subunitcolor": "#C8D4E3"
          },
          "hoverlabel": {
           "align": "left"
          },
          "hovermode": "closest",
          "mapbox": {
           "style": "light"
          },
          "paper_bgcolor": "white",
          "plot_bgcolor": "white",
          "polar": {
           "angularaxis": {
            "gridcolor": "#EBF0F8",
            "linecolor": "#EBF0F8",
            "ticks": ""
           },
           "bgcolor": "white",
           "radialaxis": {
            "gridcolor": "#EBF0F8",
            "linecolor": "#EBF0F8",
            "ticks": ""
           }
          },
          "scene": {
           "xaxis": {
            "backgroundcolor": "white",
            "gridcolor": "#DFE8F3",
            "gridwidth": 2,
            "linecolor": "#EBF0F8",
            "showbackground": true,
            "ticks": "",
            "zerolinecolor": "#EBF0F8"
           },
           "yaxis": {
            "backgroundcolor": "white",
            "gridcolor": "#DFE8F3",
            "gridwidth": 2,
            "linecolor": "#EBF0F8",
            "showbackground": true,
            "ticks": "",
            "zerolinecolor": "#EBF0F8"
           },
           "zaxis": {
            "backgroundcolor": "white",
            "gridcolor": "#DFE8F3",
            "gridwidth": 2,
            "linecolor": "#EBF0F8",
            "showbackground": true,
            "ticks": "",
            "zerolinecolor": "#EBF0F8"
           }
          },
          "shapedefaults": {
           "line": {
            "color": "#2a3f5f"
           }
          },
          "ternary": {
           "aaxis": {
            "gridcolor": "#DFE8F3",
            "linecolor": "#A2B1C6",
            "ticks": ""
           },
           "baxis": {
            "gridcolor": "#DFE8F3",
            "linecolor": "#A2B1C6",
            "ticks": ""
           },
           "bgcolor": "white",
           "caxis": {
            "gridcolor": "#DFE8F3",
            "linecolor": "#A2B1C6",
            "ticks": ""
           }
          },
          "title": {
           "x": 0.05
          },
          "xaxis": {
           "automargin": true,
           "gridcolor": "#EBF0F8",
           "linecolor": "#EBF0F8",
           "ticks": "",
           "title": {
            "standoff": 15
           },
           "zerolinecolor": "#EBF0F8",
           "zerolinewidth": 2
          },
          "yaxis": {
           "automargin": true,
           "gridcolor": "#EBF0F8",
           "linecolor": "#EBF0F8",
           "ticks": "",
           "title": {
            "standoff": 15
           },
           "zerolinecolor": "#EBF0F8",
           "zerolinewidth": 2
          }
         }
        },
        "title": {
         "text": "AAPL Stock Price"
        },
        "xaxis": {
         "anchor": "y",
         "domain": [
          0,
          1
         ],
         "matches": "x2",
         "showticklabels": false,
         "title": {
          "text": "Date"
         }
        },
        "xaxis2": {
         "anchor": "y2",
         "domain": [
          0,
          1
         ]
        },
        "yaxis": {
         "anchor": "x",
         "domain": [
          0.32099999999999995,
          0.9999999999999999
         ],
         "title": {
          "text": "Price"
         }
        },
        "yaxis2": {
         "anchor": "x2",
         "domain": [
          0,
          0.291
         ]
        }
       }
      }
     },
     "metadata": {},
     "output_type": "display_data"
    },
    {
     "name": "stdout",
     "output_type": "stream",
     "text": [
      "\n",
      "News Impact Analysis:\n",
      "\n",
      "Date: 2023-09-12\n",
      "Headline: Apple announces new iPhone\n",
      "Price Change: -1.44%\n",
      "Volatility: 1.05%\n",
      "Volume Change: -2.92%\n",
      "\n",
      "Date: 2023-10-26\n",
      "Headline: Apple beats earnings\n",
      "Price Change: -1.57%\n",
      "Volatility: 1.55%\n",
      "Volume Change: -8.66%\n"
     ]
    }
   ],
   "source": [
    "\n",
    "\n",
    "class StockAnalyzer:\n",
    "    def __init__(self, ticker: str):\n",
    "        \"\"\"\n",
    "        Initialize the StockAnalyzer with a stock ticker.\n",
    "\n",
    "        Args:\n",
    "            ticker (str): Stock ticker symbol (e.g., 'AAPL' for Apple)\n",
    "        \"\"\"\n",
    "        self.ticker = ticker.upper()\n",
    "        self.stock = yf.Ticker(self.ticker)\n",
    "        self._info = None\n",
    "\n",
    "    @property\n",
    "    def info(self) -> Dict:\n",
    "        \"\"\"Get basic information about the stock.\"\"\"\n",
    "        if self._info is None:\n",
    "            self._info = self.stock.info\n",
    "        return self._info\n",
    "\n",
    "    def get_historical_data(\n",
    "        self,\n",
    "        period: str = \"1y\",\n",
    "        interval: str = \"1d\",\n",
    "        start: Optional[str] = None,\n",
    "        end: Optional[str] = None\n",
    "    ) -> pd.DataFrame:\n",
    "        \"\"\"\n",
    "        Fetch historical stock data.\n",
    "\n",
    "        Args:\n",
    "            period (str): Valid periods: 1d,5d,1mo,3mo,6mo,1y,2y,5y,10y,ytd,max\n",
    "            interval (str): Valid intervals: 1m,2m,5m,15m,30m,60m,90m,1h,1d,5d,1wk,1mo,3mo\n",
    "            start (str): Start date in YYYY-MM-DD format\n",
    "            end (str): End date in YYYY-MM-DD format\n",
    "\n",
    "        Returns:\n",
    "            pd.DataFrame: Historical stock data\n",
    "        \"\"\"\n",
    "        if start and end:\n",
    "            data = self.stock.history(start=start, end=end, interval=interval)\n",
    "        else:\n",
    "            data = self.stock.history(period=period, interval=interval)\n",
    "        return data\n",
    "\n",
    "    def get_news_impact_analysis(\n",
    "        self,\n",
    "        news_date: str,\n",
    "        days_before: int = 5,\n",
    "        days_after: int = 5\n",
    "    ) -> pd.DataFrame:\n",
    "        \"\"\"\n",
    "        Analyze stock price movements around a news event.\n",
    "\n",
    "        Args:\n",
    "            news_date (str): Date of the news event (YYYY-MM-DD)\n",
    "            days_before (int): Number of days to analyze before the event\n",
    "            days_after (int): Number of days to analyze after the event\n",
    "\n",
    "        Returns:\n",
    "            pd.DataFrame: Price data around the news event\n",
    "        \"\"\"\n",
    "        start_date = (datetime.strptime(news_date, '%Y-%m-%d') -\n",
    "                     timedelta(days=days_before))\n",
    "        end_date = (datetime.strptime(news_date, '%Y-%m-%d') +\n",
    "                   timedelta(days=days_after))\n",
    "\n",
    "        return self.get_historical_data(\n",
    "            start=start_date.strftime('%Y-%m-%d'),\n",
    "            end=end_date.strftime('%Y-%m-%d')\n",
    "        )\n",
    "\n",
    "    def calculate_technical_indicators(self, data: pd.DataFrame) -> pd.DataFrame:\n",
    "        \"\"\"\n",
    "        Calculate basic technical indicators for the stock data.\n",
    "\n",
    "        Args:\n",
    "            data (pd.DataFrame): Historical stock data\n",
    "\n",
    "        Returns:\n",
    "            pd.DataFrame: Data with added technical indicators\n",
    "        \"\"\"\n",
    "        df = data.copy()\n",
    "\n",
    "        # Calculate Moving Averages\n",
    "        df['SMA_20'] = df['Close'].rolling(window=20).mean()\n",
    "        df['SMA_50'] = df['Close'].rolling(window=50).mean()\n",
    "\n",
    "        # Calculate RSI (Relative Strength Index)\n",
    "        delta = df['Close'].diff()\n",
    "        gain = (delta.where(delta > 0, 0)).rolling(window=14).mean()\n",
    "        loss = (-delta.where(delta < 0, 0)).rolling(window=14).mean()\n",
    "        rs = gain / loss\n",
    "        df['RSI'] = 100 - (100 / (1 + rs))\n",
    "\n",
    "        # Calculate MACD\n",
    "        exp1 = df['Close'].ewm(span=12, adjust=False).mean()\n",
    "        exp2 = df['Close'].ewm(span=26, adjust=False).mean()\n",
    "        df['MACD'] = exp1 - exp2\n",
    "        df['Signal_Line'] = df['MACD'].ewm(span=9, adjust=False).mean()\n",
    "\n",
    "        return df\n",
    "\n",
    "    def plot_stock_data(\n",
    "        self,\n",
    "        data: pd.DataFrame,\n",
    "        indicators: bool = True,\n",
    "        volume: bool = True\n",
    "    ) -> None:\n",
    "        \"\"\"\n",
    "        Create an interactive plot of stock data using Plotly.\n",
    "\n",
    "        Args:\n",
    "            data (pd.DataFrame): Historical stock data\n",
    "            indicators (bool): Whether to show technical indicators\n",
    "            volume (bool): Whether to show volume data\n",
    "        \"\"\"\n",
    "        # Create figure with secondary y-axis\n",
    "        fig = make_subplots(\n",
    "            rows=2 if volume else 1,\n",
    "            cols=1,\n",
    "            shared_xaxes=True,\n",
    "            vertical_spacing=0.03,\n",
    "            row_heights=[0.7, 0.3] if volume else [1]\n",
    "        )\n",
    "\n",
    "        # Add candlestick chart\n",
    "        fig.add_trace(\n",
    "            go.Candlestick(\n",
    "                x=data.index,\n",
    "                open=data['Open'],\n",
    "                high=data['High'],\n",
    "                low=data['Low'],\n",
    "                close=data['Close'],\n",
    "                name='OHLC'\n",
    "            ),\n",
    "            row=1, col=1\n",
    "        )\n",
    "\n",
    "        if indicators:\n",
    "            # Add moving averages\n",
    "            fig.add_trace(\n",
    "                go.Scatter(\n",
    "                    x=data.index,\n",
    "                    y=data['SMA_20'],\n",
    "                    name='SMA 20',\n",
    "                    line=dict(color='blue')\n",
    "                ),\n",
    "                row=1, col=1\n",
    "            )\n",
    "            fig.add_trace(\n",
    "                go.Scatter(\n",
    "                    x=data.index,\n",
    "                    y=data['SMA_50'],\n",
    "                    name='SMA 50',\n",
    "                    line=dict(color='red')\n",
    "                ),\n",
    "                row=1, col=1\n",
    "            )\n",
    "\n",
    "        if volume:\n",
    "            # Add volume bar chart\n",
    "            fig.add_trace(\n",
    "                go.Bar(\n",
    "                    x=data.index,\n",
    "                    y=data['Volume'],\n",
    "                    name='Volume'\n",
    "                ),\n",
    "                row=2, col=1\n",
    "            )\n",
    "\n",
    "        # Update layout\n",
    "        fig.update_layout(\n",
    "            title=f'{self.ticker} Stock Price',\n",
    "            yaxis_title='Price',\n",
    "            xaxis_title='Date',\n",
    "            template='plotly_white'\n",
    "        )\n",
    "\n",
    "        fig.show()\n",
    "\n",
    "    def analyze_news_impact(\n",
    "        self,\n",
    "        news_data: pd.DataFrame,\n",
    "        price_data: pd.DataFrame\n",
    "    ) -> Dict:\n",
    "        \"\"\"\n",
    "        Analyze the impact of news on stock prices.\n",
    "\n",
    "        Args:\n",
    "            news_data (pd.DataFrame): DataFrame containing news data with columns:\n",
    "                                    ['headline', 'date', 'stock']\n",
    "            price_data (pd.DataFrame): Historical price data\n",
    "\n",
    "        Returns:\n",
    "            Dict: Analysis results including price changes and statistics\n",
    "        \"\"\"\n",
    "        results = {}\n",
    "\n",
    "        for _, news in news_data.iterrows():\n",
    "            news_date = pd.to_datetime(news['date'])\n",
    "\n",
    "            # Get price data around news event\n",
    "            event_data = self.get_news_impact_analysis(\n",
    "                news_date.strftime('%Y-%m-%d')\n",
    "            )\n",
    "\n",
    "            if not event_data.empty:\n",
    "                # Calculate price changes\n",
    "                price_before = event_data['Close'].iloc[0]\n",
    "                price_after = event_data['Close'].iloc[-1]\n",
    "                price_change = ((price_after - price_before) / price_before) * 100\n",
    "\n",
    "                # Calculate volatility\n",
    "                volatility = event_data['Close'].pct_change().std() * 100\n",
    "\n",
    "                results[news_date.strftime('%Y-%m-%d')] = {\n",
    "                    'headline': news['headline'],\n",
    "                    'price_change': price_change,\n",
    "                    'volatility': volatility,\n",
    "                    'volume_change': (\n",
    "                        (event_data['Volume'].iloc[-1] - event_data['Volume'].iloc[0]) /\n",
    "                        event_data['Volume'].iloc[0] * 100\n",
    "                    )\n",
    "                }\n",
    "\n",
    "        return results\n",
    "\n",
    "# Example usage\n",
    "if __name__ == \"__main__\":\n",
    "    # Create analyzer instance\n",
    "    analyzer = StockAnalyzer('AAPL')\n",
    "\n",
    "    # Get historical data\n",
    "    data = analyzer.get_historical_data(period='1y')\n",
    "\n",
    "    # Calculate technical indicators\n",
    "    data_with_indicators = analyzer.calculate_technical_indicators(data)\n",
    "\n",
    "    # Plot the data\n",
    "    analyzer.plot_stock_data(data_with_indicators)\n",
    "\n",
    "    # Example news impact analysis\n",
    "    sample_news = pd.DataFrame({\n",
    "        'headline': ['Apple announces new iPhone', 'Apple beats earnings'],\n",
    "        'date': ['2023-09-12', '2023-10-26'],\n",
    "        'stock': ['AAPL', 'AAPL']\n",
    "    })\n",
    "\n",
    "    impact_analysis = analyzer.analyze_news_impact(sample_news, data)\n",
    "    print(\"\\nNews Impact Analysis:\")\n",
    "    for date, impact in impact_analysis.items():\n",
    "        # print(f\"Indicators: {data_with_indicators}\")\n",
    "        print(f\"\\nDate: {date}\")\n",
    "        print(f\"Headline: {impact['headline']}\")\n",
    "        print(f\"Price Change: {impact['price_change']:.2f}%\")\n",
    "        print(f\"Volatility: {impact['volatility']:.2f}%\")\n",
    "        print(f\"Volume Change: {impact['volume_change']:.2f}%\")"
   ]
  },
  {
   "cell_type": "markdown",
   "metadata": {
    "id": "8YEQ-Z6CcR8i"
   },
   "source": [
    "iPhone Announcement (Sept 12, 2023):\n",
    "\n",
    "*   Price Change: -1.44% (stock decreased slightly)\n",
    "\n",
    "*   Volatility: 1.05% (relatively low price swings)\n",
    "\n",
    "*   Volume Change: -2.92% (slightly lower trading volume)\n",
    "\n",
    "This suggests the iPhone announcement was somewhat disappointing to investors, as the stock price dropped slightly despite the news.\n",
    "\n",
    "Earnings Report (Oct 26, 2023):\n",
    "\n",
    "*  Price Change: -1.57% (stock decreased)\n",
    "\n",
    "*   Volatility: 1.55% (higher price swings than iPhone announcement)\n",
    "\n",
    "*   Volume Change: -8.66% (significant decrease in trading volume)\n",
    "\n",
    "\n",
    "This indicates that despite beating earnings, the market reaction was negative, possibly due to other factors in the report or market conditions.\n",
    "\n",
    "\n",
    "\n",
    "So summarizing:\n",
    "\n",
    "*   The iPhone announcement is about future products\n",
    "\n",
    "*   The earnings report is about past financial performance\n",
    "\n",
    "\n",
    "The fact that both events resulted in stock price decreases suggests that:\n",
    "\n",
    "*   The market might have been disappointed with the iPhone 15 announcement\n",
    "\n",
    "*   Then, even though the earnings were good, the market might have been concerned about future growth or other factors in the earnings report\n",
    "\n",
    "\n"
   ]
  },
  {
   "cell_type": "markdown",
   "metadata": {
    "id": "9lhZ4Y7fglWz"
   },
   "source": [
    "GRAPH SUMMARY\n",
    "\n",
    "\n",
    "*   If you're an investor, this suggests it might not be the best time to buy\n",
    "\n",
    "*   If you own the stock, you might want to watch it carefully\n",
    "\n",
    "*   The trend is downward, but this is just one indicator and shouldn't be the only factor in making investment decisions\n",
    "\n",
    "\n"
   ]
  },
  {
   "cell_type": "markdown",
   "metadata": {
    "id": "4oQHC7rdIuCd"
   },
   "source": [
    "\n",
    "## Glossary of Terms\n",
    "\n",
    "Here are some key terms you'll be using:\n",
    "\n",
    "- **Technical Analysis**: The study of historical market data, primarily price and volume, to forecast future price movements\n",
    "- **Portfolio Analysis**: The process of analyzing and managing a collection of investments to achieve optimal returns\n",
    "- **Moving Averages**: Technical indicators that smooth out price data to identify trends (SMA, EMA, WMA)\n",
    "- **Indicators**: Mathematical calculations based on price, volume, or other market data that help predict future price movements\n",
    "- **Period**: The time window used for calculating technical indicators (e.g., 14 days for RSI)\n"
   ]
  },
  {
   "cell_type": "markdown",
   "metadata": {
    "id": "sOkeSMhMIuCf"
   },
   "source": [
    "**Technical Indicators**\n",
    "\n",
    "Technical analysis helps us identify patterns and trends in stock prices. We'll calculate several types of indicators\n",
    "\n",
    "1. **Moving Averages** (Trend Indicators):\n",
    "   - SMA (Simple Moving Average)\n",
    "   - EMA (Exponential Moving Average)\n",
    "   - WMA (Weighted Moving Average)\n",
    "\n",
    "2. **Momentum Indicators**:\n",
    "   - RSI (Relative Strength Index)\n",
    "   - MACD (Moving Average Convergence Divergence)\n",
    "   - Stochastic Oscillator\n",
    "\n",
    "3. **Volatility Indicators**:\n",
    "   - ATR (Average True Range)\n",
    "   - Bollinger Bands\n",
    "\n",
    "4. **Volume Indicators**:\n",
    "   - OBV (On-Balance Volume)\n",
    "   - MFI (Money Flow Index)"
   ]
  },
  {
   "cell_type": "markdown",
   "metadata": {
    "id": "uRqvf4YWIuCg"
   },
   "source": [
    "**Trading Signals with Pynance**\n",
    "\n",
    "In this section, we'll combine multiple indicators to generate trading signals. Our strategy considers:\n",
    "\n",
    "1. **RSI Signals**:\n",
    "   - Buy when RSI < 30 (oversold)\n",
    "   - Sell when RSI > 70 (overbought)\n",
    "\n",
    "2. **MACD Signals**:\n",
    "   - Buy when MACD crosses above Signal line\n",
    "   - Sell when MACD crosses below Signal line\n",
    "\n",
    "3. **Bollinger Bands Signals**:\n",
    "   - Buy when price touches lower band\n",
    "   - Sell when price touches upper band\n",
    "\n",
    "We'll combine these signals to create a more robust trading strategy."
   ]
  },
  {
   "cell_type": "markdown",
   "metadata": {
    "id": "oxoZJdUzIuCg"
   },
   "source": [
    "**Portfolio Analysis with Pynance**\n",
    "\n",
    "Portfolio analysis helps us understand the performance of multiple stocks together. We'll:\n",
    "\n",
    "1. **Create a Portfolio**:\n",
    "   - Combine multiple stocks (FNSPID, AAPL, MSFT, GOOGL)\n",
    "   - Fetch historical data for all components\n",
    "\n",
    "2. **Calculate Key Metrics**:\n",
    "   - Annual Returns: Total percentage gain/loss\n",
    "   - Volatility: Measure of price variation\n",
    "   - Sharpe Ratio: Risk-adjusted return measure\n",
    "\n",
    "3. **Visualize Performance**:\n",
    "   - Plot portfolio value over time\n",
    "   - Compare with individual components"
   ]
  },
  {
   "cell_type": "code",
   "execution_count": null,
   "metadata": {
    "id": "Ivumg_B_lMUq"
   },
   "outputs": [],
   "source": []
  }
 ],
 "metadata": {
  "colab": {
   "provenance": [
    {
     "file_id": "1ywVp96cNKb_8AUnSrf9Nu_JShI_kdEKo",
     "timestamp": 1748509572929
    }
   ]
  },
  "kernelspec": {
   "display_name": "venv",
   "language": "python",
   "name": "python3"
  },
  "language_info": {
   "codemirror_mode": {
    "name": "ipython",
    "version": 3
   },
   "file_extension": ".py",
   "mimetype": "text/x-python",
   "name": "python",
   "nbconvert_exporter": "python",
   "pygments_lexer": "ipython3",
   "version": "3.12.5"
  }
 },
 "nbformat": 4,
 "nbformat_minor": 0
}
