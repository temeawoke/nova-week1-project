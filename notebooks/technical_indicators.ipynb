{
 "cells": [
  {
   "cell_type": "code",
   "execution_count": 1,
   "id": "0e93a855",
   "metadata": {},
   "outputs": [],
   "source": [
    "import pandas as pd\n",
    "import talib\n",
    "import pynance as pn  # or use yfinance for better coverage\n",
    "import matplotlib.pyplot as plt"
   ]
  },
  {
   "cell_type": "code",
   "execution_count": null,
   "id": "362113b5",
   "metadata": {},
   "outputs": [],
   "source": [
    "# Corrected list of tickers\n",
    "tickers = {\n",
    "    \"AAPL\": \"Apple Inc.\",\n",
    "    \"AMZN\": \"Amazon.com, Inc.\",\n",
    "    \"GOOG\": \"Alphabet Inc. (Class C)\",\n",
    "    \"FB\": \"Meta Platforms, Inc.\",\n",
    "    \"MSFT\": \"Microsoft Corporation\",  # Fixed from MSF\n",
    "    \"NVDA\": \"NVIDIA Corporation\",\n",
    "    \"TSLA\": \"Tesla, Inc.\"\n",
    "}"
   ]
  }
 ],
 "metadata": {
  "kernelspec": {
   "display_name": "venv",
   "language": "python",
   "name": "python3"
  },
  "language_info": {
   "codemirror_mode": {
    "name": "ipython",
    "version": 3
   },
   "file_extension": ".py",
   "mimetype": "text/x-python",
   "name": "python",
   "nbconvert_exporter": "python",
   "pygments_lexer": "ipython3",
   "version": "3.12.5"
  }
 },
 "nbformat": 4,
 "nbformat_minor": 5
}
