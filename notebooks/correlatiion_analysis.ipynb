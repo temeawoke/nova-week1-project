{
 "cells": [
  {
   "cell_type": "markdown",
   "id": "0005b7c5",
   "metadata": {},
   "source": [
    "🧠 Correlation Analysis\n",
    "\n",
    "To measure the correlation between news sentiment and daily stock returns, you can follow this structured workflow:"
   ]
  },
  {
   "cell_type": "code",
   "execution_count": 1,
   "id": "cb3daae8",
   "metadata": {},
   "outputs": [],
   "source": [
    "import pandas as pd\n",
    "from vaderSentiment.vaderSentiment import SentimentIntensityAnalyzer\n",
    "import yfinance as yf\n",
    "import matplotlib.pyplot as plt\n",
    "from nltk.sentiment.vader import SentimentIntensityAnalyzer\n",
    "from textblob import TextBlob\n",
    "import seaborn as sns\n"
   ]
  },
  {
   "cell_type": "code",
   "execution_count": 7,
   "id": "64912e90",
   "metadata": {},
   "outputs": [],
   "source": [
    "df_news =pd.read_csv('../data/raw_analyst_ratings.csv') # Replace with your actual filename\n"
   ]
  },
  {
   "cell_type": "code",
   "execution_count": 8,
   "id": "f101a485",
   "metadata": {},
   "outputs": [],
   "source": [
    "data = {\n",
    "    'headline': [\n",
    "        \"Apple hits new high after earnings report\",\n",
    "        \"Amazon faces antitrust probe\",\n",
    "        \"Tesla's new factory boosts investor confidence\"\n",
    "    ],\n",
    "    'date': [\"2024-01-02\", \"2024-01-02\", \"2024-01-03\"],\n",
    "    'stock': [\"AAPL\", \"AMZN\", \"TSLA\"]\n",
    "}\n",
    "\n",
    "df_news = pd.DataFrame(data)\n",
    "df_news['date'] = pd.to_datetime(df_news['date']).dt.date\n"
   ]
  },
  {
   "cell_type": "code",
   "execution_count": 9,
   "id": "095bee72",
   "metadata": {},
   "outputs": [],
   "source": [
    "# Convert to datetime and normalize to date only\n",
    "df_news['date'] = pd.to_datetime(df_news['date']).dt.date\n"
   ]
  },
  {
   "cell_type": "code",
   "execution_count": 10,
   "id": "7e1128cd",
   "metadata": {},
   "outputs": [
    {
     "name": "stdout",
     "output_type": "stream",
     "text": [
      "YF.download() has changed argument auto_adjust default to True\n"
     ]
    },
    {
     "name": "stderr",
     "output_type": "stream",
     "text": [
      "[*********************100%***********************]  1 of 1 completed\n"
     ]
    }
   ],
   "source": [
    "ticker = \"AAPL\"\n",
    "df_price = yf.download(ticker, start=\"2023-01-01\", end=\"2024-01-01\")\n",
    "df_price = df_price.reset_index()\n",
    "df_price['date'] = df_price['Date'].dt.date\n"
   ]
  },
  {
   "cell_type": "code",
   "execution_count": 11,
   "id": "ee818c01",
   "metadata": {},
   "outputs": [],
   "source": [
    "def get_sentiment(text):\n",
    "    return TextBlob(text).sentiment.polarity  # ranges from -1 to 1\n",
    "\n",
    "df_news['sentiment'] = df_news['headline'].apply(get_sentiment)\n"
   ]
  },
  {
   "cell_type": "code",
   "execution_count": 12,
   "id": "fab65e02",
   "metadata": {},
   "outputs": [],
   "source": [
    "daily_sentiment = df_news.groupby('date')['sentiment'].mean().reset_index()\n",
    "daily_sentiment.rename(columns={'sentiment': 'avg_sentiment'}, inplace=True)\n"
   ]
  },
  {
   "cell_type": "code",
   "execution_count": 13,
   "id": "e8873eb3",
   "metadata": {},
   "outputs": [],
   "source": [
    "df_price['return'] = df_price['Close'].pct_change()\n",
    "daily_returns = df_price[['date', 'return']].dropna()\n"
   ]
  },
  {
   "cell_type": "code",
   "execution_count": 17,
   "id": "fbf12bc8",
   "metadata": {},
   "outputs": [],
   "source": [
    "daily_returns.rename(columns={'Date': 'date'}, inplace=True)\n"
   ]
  },
  {
   "cell_type": "code",
   "execution_count": 18,
   "id": "8a08092a",
   "metadata": {},
   "outputs": [],
   "source": [
    "daily_sentiment['date'] = pd.to_datetime(daily_sentiment['date']).dt.date\n",
    "daily_returns['date'] = pd.to_datetime(daily_returns['date']).dt.date\n"
   ]
  },
  {
   "cell_type": "code",
   "execution_count": null,
   "id": "f32d388c",
   "metadata": {},
   "outputs": [],
   "source": []
  },
  {
   "cell_type": "code",
   "execution_count": 7,
   "id": "2bc7c179",
   "metadata": {},
   "outputs": [
    {
     "name": "stdout",
     "output_type": "stream",
     "text": [
      "YF.download() has changed argument auto_adjust default to True\n"
     ]
    },
    {
     "name": "stderr",
     "output_type": "stream",
     "text": [
      "[*********************100%***********************]  1 of 1 completed\n",
      "[*********************100%***********************]  1 of 1 completed\n",
      "[*********************100%***********************]  1 of 1 completed\n",
      "[*********************100%***********************]  1 of 1 completed\n",
      "\n",
      "1 Failed download:\n",
      "['FB']: YFTzMissingError('possibly delisted; no timezone found')\n",
      "[*********************100%***********************]  1 of 1 completed\n",
      "[*********************100%***********************]  1 of 1 completed\n"
     ]
    }
   ],
   "source": [
    "tickers = df_news['stock'].unique()\n",
    "df_prices = pd.DataFrame()\n",
    "\n",
    "for ticker in tickers:\n",
    "    stock_data = yf.download(ticker, start=\"2023-01-01\", end=\"2024-01-01\")[['Close']]\n",
    "    stock_data['ticker'] = ticker\n",
    "    stock_data['date'] = stock_data.index.date\n",
    "    df_prices = pd.concat([df_prices, stock_data.reset_index(drop=True)])\n"
   ]
  },
  {
   "cell_type": "code",
   "execution_count": 4,
   "id": "4c1481a6",
   "metadata": {},
   "outputs": [
    {
     "name": "stdout",
     "output_type": "stream",
     "text": [
      "YF.download() has changed argument auto_adjust default to True\n"
     ]
    },
    {
     "name": "stderr",
     "output_type": "stream",
     "text": [
      "[*********************100%***********************]  1 of 1 completed\n"
     ]
    }
   ],
   "source": [
    "# 3. Aggregate daily sentiment\n",
    "daily_sentiment = news_df.groupby('date')['compound'].mean().reset_index()\n",
    "\n",
    "# 4. Get stock data and compute returns\n",
    "stock_df = yf.download(\"SPY\", start=\"2023-01-01\", end=\"2023-01-10\")\n",
    "stock_df = stock_df[['Close']].copy()\n",
    "stock_df['return'] = stock_df['Close'].pct_change()\n",
    "stock_df = stock_df.reset_index().rename(columns={'Date': 'date'})"
   ]
  },
  {
   "cell_type": "code",
   "execution_count": 5,
   "id": "c66ca78d",
   "metadata": {},
   "outputs": [
    {
     "name": "stdout",
     "output_type": "stream",
     "text": [
      "0\n",
      "0\n",
      "0\n",
      "0\n"
     ]
    }
   ],
   "source": [
    "print(daily_sentiment['date'].duplicated().sum())  # Should be 0 ideally\n",
    "print(stock_df['date'].duplicated().sum())\n",
    "print(daily_sentiment['date'].isnull().sum())\n",
    "print(stock_df['date'].isnull().sum())\n"
   ]
  }
 ],
 "metadata": {
  "kernelspec": {
   "display_name": "venv",
   "language": "python",
   "name": "python3"
  },
  "language_info": {
   "codemirror_mode": {
    "name": "ipython",
    "version": 3
   },
   "file_extension": ".py",
   "mimetype": "text/x-python",
   "name": "python",
   "nbconvert_exporter": "python",
   "pygments_lexer": "ipython3",
   "version": "3.12.5"
  }
 },
 "nbformat": 4,
 "nbformat_minor": 5
}
