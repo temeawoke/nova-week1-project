{
 "cells": [
  {
   "cell_type": "markdown",
   "id": "995fd0b7",
   "metadata": {},
   "source": [
    "# Perform descriptive statistics and text analysis on the dataset"
   ]
  },
  {
   "cell_type": "code",
   "execution_count": 6,
   "id": "aec99a0c",
   "metadata": {},
   "outputs": [
    {
     "name": "stderr",
     "output_type": "stream",
     "text": [
      "[nltk_data] Downloading package punkt to\n",
      "[nltk_data]     C:\\Users\\USED\\AppData\\Roaming\\nltk_data...\n",
      "[nltk_data]   Package punkt is already up-to-date!\n",
      "[nltk_data] Downloading package stopwords to\n",
      "[nltk_data]     C:\\Users\\USED\\AppData\\Roaming\\nltk_data...\n",
      "[nltk_data]   Package stopwords is already up-to-date!\n"
     ]
    },
    {
     "data": {
      "text/plain": [
       "True"
      ]
     },
     "execution_count": 6,
     "metadata": {},
     "output_type": "execute_result"
    }
   ],
   "source": [
    "import pandas as pd\n",
    "import matplotlib.pyplot as plt\n",
    "import seaborn as sns\n",
    "from wordcloud import WordCloud\n",
    "import yfinance as yf\n",
    "import talib\n",
    "from nltk.corpus import stopwords\n",
    "from nltk.tokenize import word_tokenize\n",
    "from gensim import corpora, models\n",
    "from textblob import TextBlob\n",
    "import nltk\n",
    "nltk.download('punkt')\n",
    "nltk.download('stopwords')"
   ]
  },
  {
   "cell_type": "code",
   "execution_count": 7,
   "id": "cc2c846b",
   "metadata": {},
   "outputs": [
    {
     "name": "stderr",
     "output_type": "stream",
     "text": [
      "[*********************100%***********************]  1 of 1 completed"
     ]
    },
    {
     "name": "stdout",
     "output_type": "stream",
     "text": [
      "Price            Close        High         Low        Open    Volume\n",
      "Ticker            AAPL        AAPL        AAPL        AAPL      AAPL\n",
      "Date                                                                \n",
      "2024-12-03  242.066071  242.175806  238.325095  239.232909  38861000\n",
      "2024-12-04  242.425201  243.522560  240.669442  242.285539  44383900\n",
      "2024-12-05  242.455124  243.951514  241.547325  243.402850  40033900\n",
      "2024-12-06  242.255600  244.041301  241.497434  242.325439  36870600\n",
      "2024-12-09  246.156204  246.645031  241.168237  241.248046  44649200\n"
     ]
    },
    {
     "name": "stderr",
     "output_type": "stream",
     "text": [
      "\n"
     ]
    }
   ],
   "source": [
    "import yfinance as yf\n",
    "\n",
    "df = yf.download('AAPL', period='6mo', interval='1d')\n",
    "print(df.head())\n",
    "\n"
   ]
  },
  {
   "cell_type": "code",
   "execution_count": 12,
   "id": "52a1c9d1",
   "metadata": {},
   "outputs": [
    {
     "name": "stdout",
     "output_type": "stream",
     "text": [
      "Price            Close        High         Low        Open    Volume\n",
      "Ticker            AAPL        AAPL        AAPL        AAPL      AAPL\n",
      "Date                                                                \n",
      "2024-12-03  242.066071  242.175806  238.325095  239.232909  38861000\n",
      "2024-12-04  242.425201  243.522560  240.669442  242.285539  44383900\n",
      "2024-12-05  242.455124  243.951514  241.547325  243.402850  40033900\n",
      "2024-12-06  242.255600  244.041301  241.497434  242.325439  36870600\n",
      "2024-12-09  246.156204  246.645031  241.168237  241.248046  44649200\n"
     ]
    }
   ],
   "source": [
    "print(df.head())\n",
    "\n"
   ]
  },
  {
   "cell_type": "code",
   "execution_count": 13,
   "id": "65e6a528",
   "metadata": {},
   "outputs": [
    {
     "name": "stdout",
     "output_type": "stream",
     "text": [
      "MultiIndex([( 'Close', 'AAPL'),\n",
      "            (  'High', 'AAPL'),\n",
      "            (   'Low', 'AAPL'),\n",
      "            (  'Open', 'AAPL'),\n",
      "            ('Volume', 'AAPL')],\n",
      "           names=['Price', 'Ticker'])\n"
     ]
    }
   ],
   "source": [
    "print(df.columns)"
   ]
  },
  {
   "cell_type": "code",
   "execution_count": 18,
   "id": "4d47e093",
   "metadata": {},
   "outputs": [
    {
     "name": "stdout",
     "output_type": "stream",
     "text": [
      "('Close', 'AAPL') - float64\n",
      "('High', 'AAPL') - float64\n",
      "('Low', 'AAPL') - float64\n",
      "('Open', 'AAPL') - float64\n",
      "('Volume', 'AAPL') - int64\n"
     ]
    }
   ],
   "source": [
    "for col in df.columns:\n",
    "    print(f\"{col} - {df[col].dtype}\")\n"
   ]
  },
  {
   "cell_type": "code",
   "execution_count": 31,
   "id": "16ec9d2f",
   "metadata": {},
   "outputs": [
    {
     "name": "stdout",
     "output_type": "stream",
     "text": [
      "\n",
      "📥 Fetching data for AAPL - Apple Inc....\n"
     ]
    },
    {
     "name": "stderr",
     "output_type": "stream",
     "text": [
      "[*********************100%***********************]  1 of 1 completed"
     ]
    },
    {
     "name": "stdout",
     "output_type": "stream",
     "text": [
      "✅ Columns fetched: [('Close', 'AAPL'), ('High', 'AAPL'), ('Low', 'AAPL'), ('Open', 'AAPL'), ('Volume', 'AAPL')]\n"
     ]
    },
    {
     "name": "stderr",
     "output_type": "stream",
     "text": [
      "\n"
     ]
    },
    {
     "ename": "TypeError",
     "evalue": "arg must be a list, tuple, 1-d array, or Series",
     "output_type": "error",
     "traceback": [
      "\u001b[1;31m---------------------------------------------------------------------------\u001b[0m",
      "\u001b[1;31mTypeError\u001b[0m                                 Traceback (most recent call last)",
      "Cell \u001b[1;32mIn[31], line 40\u001b[0m\n\u001b[0;32m     37\u001b[0m     \u001b[38;5;28;01mcontinue\u001b[39;00m\n\u001b[0;32m     39\u001b[0m \u001b[38;5;66;03m# Convert 'Close' to numeric and drop missing\u001b[39;00m\n\u001b[1;32m---> 40\u001b[0m df[\u001b[38;5;124m'\u001b[39m\u001b[38;5;124mClose\u001b[39m\u001b[38;5;124m'\u001b[39m] \u001b[38;5;241m=\u001b[39m \u001b[43mpd\u001b[49m\u001b[38;5;241;43m.\u001b[39;49m\u001b[43mto_numeric\u001b[49m\u001b[43m(\u001b[49m\u001b[43mdf\u001b[49m\u001b[43m[\u001b[49m\u001b[38;5;124;43m'\u001b[39;49m\u001b[38;5;124;43mClose\u001b[39;49m\u001b[38;5;124;43m'\u001b[39;49m\u001b[43m]\u001b[49m\u001b[43m,\u001b[49m\u001b[43m \u001b[49m\u001b[43merrors\u001b[49m\u001b[38;5;241;43m=\u001b[39;49m\u001b[38;5;124;43m'\u001b[39;49m\u001b[38;5;124;43mcoerce\u001b[39;49m\u001b[38;5;124;43m'\u001b[39;49m\u001b[43m)\u001b[49m\n\u001b[0;32m     41\u001b[0m df \u001b[38;5;241m=\u001b[39m df\u001b[38;5;241m.\u001b[39mdropna(subset\u001b[38;5;241m=\u001b[39m[\u001b[38;5;124m'\u001b[39m\u001b[38;5;124mClose\u001b[39m\u001b[38;5;124m'\u001b[39m])\n",
      "File \u001b[1;32mg:\\10 Academy\\nova_project\\nova-week1-project\\venv\\Lib\\site-packages\\pandas\\core\\tools\\numeric.py:206\u001b[0m, in \u001b[0;36mto_numeric\u001b[1;34m(arg, errors, downcast, dtype_backend)\u001b[0m\n\u001b[0;32m    204\u001b[0m     values \u001b[38;5;241m=\u001b[39m np\u001b[38;5;241m.\u001b[39marray([arg], dtype\u001b[38;5;241m=\u001b[39m\u001b[38;5;124m\"\u001b[39m\u001b[38;5;124mO\u001b[39m\u001b[38;5;124m\"\u001b[39m)\n\u001b[0;32m    205\u001b[0m \u001b[38;5;28;01melif\u001b[39;00m \u001b[38;5;28mgetattr\u001b[39m(arg, \u001b[38;5;124m\"\u001b[39m\u001b[38;5;124mndim\u001b[39m\u001b[38;5;124m\"\u001b[39m, \u001b[38;5;241m1\u001b[39m) \u001b[38;5;241m>\u001b[39m \u001b[38;5;241m1\u001b[39m:\n\u001b[1;32m--> 206\u001b[0m     \u001b[38;5;28;01mraise\u001b[39;00m \u001b[38;5;167;01mTypeError\u001b[39;00m(\u001b[38;5;124m\"\u001b[39m\u001b[38;5;124marg must be a list, tuple, 1-d array, or Series\u001b[39m\u001b[38;5;124m\"\u001b[39m)\n\u001b[0;32m    207\u001b[0m \u001b[38;5;28;01melse\u001b[39;00m:\n\u001b[0;32m    208\u001b[0m     values \u001b[38;5;241m=\u001b[39m arg\n",
      "\u001b[1;31mTypeError\u001b[0m: arg must be a list, tuple, 1-d array, or Series"
     ]
    }
   ],
   "source": [
    "tickers = {\n",
    "    \"AAPL\": \"Apple Inc.\",\n",
    "    \"AMZN\": \"Amazon.com, Inc.\",\n",
    "    \"GOOG\": \"Alphabet Inc. (Class C)\",\n",
    "    \"FB\": \"Meta Platforms, Inc.\",\n",
    "    \"MSFT\": \"Microsoft Corporation\",  # ✅ correct ticker\n",
    "    \"NVDA\": \"NVIDIA Corporation\",\n",
    "    \"TSLA\": \"Tesla, Inc.\"\n",
    "}\n",
    "\n",
    "tickers = {\n",
    "    \"AAPL\": \"Apple Inc.\",\n",
    "    \"AMZN\": \"Amazon.com, Inc.\",\n",
    "    \"GOOG\": \"Alphabet Inc. (Class C)\",\n",
    "    \"FB\": \"Meta Platforms, Inc.\",\n",
    "    \"MSFT\": \"Microsoft Corporation\",  # ✅ correct ticker\n",
    "    \"NVDA\": \"NVIDIA Corporation\",\n",
    "    \"TSLA\": \"Tesla, Inc.\"\n",
    "}\n",
    "\n",
    "results = {}\n",
    "\n",
    "for symbol, name in tickers.items():\n",
    "    print(f\"\\n📥 Fetching data for {symbol} - {name}...\")\n",
    "    \n",
    "    df = yf.download(symbol, period=\"6mo\", interval=\"1d\")\n",
    "    \n",
    "    if df.empty:\n",
    "        print(f\"⚠️ No data for {symbol}. Skipping.\")\n",
    "        continue\n",
    "\n",
    "    print(f\"✅ Columns fetched: {df.columns.tolist()}\")\n",
    "    \n",
    "    # Defensive check: make sure 'Close' column exists\n",
    "    if 'Close' not in df.columns:\n",
    "        print(f\"❌ 'Close' column not found in data for {symbol}\")\n",
    "        continue\n",
    "\n",
    "    # Convert 'Close' to numeric and drop missing\n",
    "    df['Close'] = pd.to_numeric(df['Close'], errors='coerce')\n",
    "    df = df.dropna(subset=['Close'])"
   ]
  },
  {
   "cell_type": "code",
   "execution_count": 32,
   "id": "6ed8b487",
   "metadata": {},
   "outputs": [
    {
     "ename": "Exception",
     "evalue": "input array has wrong dimensions",
     "output_type": "error",
     "traceback": [
      "\u001b[1;31m---------------------------------------------------------------------------\u001b[0m",
      "\u001b[1;31mException\u001b[0m                                 Traceback (most recent call last)",
      "Cell \u001b[1;32mIn[32], line 2\u001b[0m\n\u001b[0;32m      1\u001b[0m \u001b[38;5;66;03m# Compute indicators\u001b[39;00m\n\u001b[1;32m----> 2\u001b[0m df[\u001b[38;5;124m'\u001b[39m\u001b[38;5;124mSMA_20\u001b[39m\u001b[38;5;124m'\u001b[39m] \u001b[38;5;241m=\u001b[39m \u001b[43mtalib\u001b[49m\u001b[38;5;241;43m.\u001b[39;49m\u001b[43mSMA\u001b[49m\u001b[43m(\u001b[49m\u001b[43mdf\u001b[49m\u001b[43m[\u001b[49m\u001b[38;5;124;43m'\u001b[39;49m\u001b[38;5;124;43mClose\u001b[39;49m\u001b[38;5;124;43m'\u001b[39;49m\u001b[43m]\u001b[49m\u001b[38;5;241;43m.\u001b[39;49m\u001b[43mvalues\u001b[49m\u001b[43m,\u001b[49m\u001b[43m \u001b[49m\u001b[43mtimeperiod\u001b[49m\u001b[38;5;241;43m=\u001b[39;49m\u001b[38;5;241;43m20\u001b[39;49m\u001b[43m)\u001b[49m\n\u001b[0;32m      3\u001b[0m df[\u001b[38;5;124m'\u001b[39m\u001b[38;5;124mEMA_20\u001b[39m\u001b[38;5;124m'\u001b[39m] \u001b[38;5;241m=\u001b[39m talib\u001b[38;5;241m.\u001b[39mEMA(df[\u001b[38;5;124m'\u001b[39m\u001b[38;5;124mClose\u001b[39m\u001b[38;5;124m'\u001b[39m]\u001b[38;5;241m.\u001b[39mvalues, timeperiod\u001b[38;5;241m=\u001b[39m\u001b[38;5;241m20\u001b[39m)\n\u001b[0;32m      4\u001b[0m df[\u001b[38;5;124m'\u001b[39m\u001b[38;5;124mRSI\u001b[39m\u001b[38;5;124m'\u001b[39m] \u001b[38;5;241m=\u001b[39m talib\u001b[38;5;241m.\u001b[39mRSI(df[\u001b[38;5;124m'\u001b[39m\u001b[38;5;124mClose\u001b[39m\u001b[38;5;124m'\u001b[39m]\u001b[38;5;241m.\u001b[39mvalues, timeperiod\u001b[38;5;241m=\u001b[39m\u001b[38;5;241m14\u001b[39m)\n",
      "File \u001b[1;32mg:\\10 Academy\\nova_project\\nova-week1-project\\venv\\Lib\\site-packages\\talib\\__init__.py:80\u001b[0m, in \u001b[0;36m_wrapper.<locals>.wrapper\u001b[1;34m(*args, **kwds)\u001b[0m\n\u001b[0;32m     77\u001b[0m     _args \u001b[38;5;241m=\u001b[39m args\n\u001b[0;32m     78\u001b[0m     _kwds \u001b[38;5;241m=\u001b[39m kwds\n\u001b[1;32m---> 80\u001b[0m result \u001b[38;5;241m=\u001b[39m \u001b[43mfunc\u001b[49m\u001b[43m(\u001b[49m\u001b[38;5;241;43m*\u001b[39;49m\u001b[43m_args\u001b[49m\u001b[43m,\u001b[49m\u001b[43m \u001b[49m\u001b[38;5;241;43m*\u001b[39;49m\u001b[38;5;241;43m*\u001b[39;49m\u001b[43m_kwds\u001b[49m\u001b[43m)\u001b[49m\n\u001b[0;32m     82\u001b[0m \u001b[38;5;66;03m# check to see if we got a streaming result\u001b[39;00m\n\u001b[0;32m     83\u001b[0m first_result \u001b[38;5;241m=\u001b[39m result[\u001b[38;5;241m0\u001b[39m] \u001b[38;5;28;01mif\u001b[39;00m \u001b[38;5;28misinstance\u001b[39m(result, \u001b[38;5;28mtuple\u001b[39m) \u001b[38;5;28;01melse\u001b[39;00m result\n",
      "File \u001b[1;32mg:\\10 Academy\\nova_project\\nova-week1-project\\venv\\Lib\\site-packages\\talib\\_func.pxi:4638\u001b[0m, in \u001b[0;36mtalib._ta_lib.SMA\u001b[1;34m()\u001b[0m\n",
      "File \u001b[1;32mg:\\10 Academy\\nova_project\\nova-week1-project\\venv\\Lib\\site-packages\\talib\\_func.pxi:24\u001b[0m, in \u001b[0;36mtalib._ta_lib.check_array\u001b[1;34m()\u001b[0m\n",
      "\u001b[1;31mException\u001b[0m: input array has wrong dimensions"
     ]
    }
   ],
   "source": [
    " # Compute indicators\n",
    "df['SMA_20'] = talib.SMA(df['Close'].values, timeperiod=20)\n",
    "df['EMA_20'] = talib.EMA(df['Close'].values, timeperiod=20)\n",
    "df['RSI'] = talib.RSI(df['Close'].values, timeperiod=14)\n",
    "df['MACD'], df['MACD_signal'], df['MACD_hist'] = talib.MACD(df['Close'].values)\n",
    "\n",
    "results[symbol] = df"
   ]
  }
 ],
 "metadata": {
  "kernelspec": {
   "display_name": "venv",
   "language": "python",
   "name": "python3"
  },
  "language_info": {
   "codemirror_mode": {
    "name": "ipython",
    "version": 3
   },
   "file_extension": ".py",
   "mimetype": "text/x-python",
   "name": "python",
   "nbconvert_exporter": "python",
   "pygments_lexer": "ipython3",
   "version": "3.12.5"
  }
 },
 "nbformat": 4,
 "nbformat_minor": 5
}
